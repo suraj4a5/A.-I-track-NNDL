{
  "nbformat": 4,
  "nbformat_minor": 0,
  "metadata": {
    "colab": {
      "name": "Assignment 07.ipynb",
      "provenance": []
    },
    "kernelspec": {
      "name": "python3",
      "display_name": "Python 3"
    },
    "language_info": {
      "name": "python"
    }
  },
  "cells": [
    {
      "cell_type": "markdown",
      "metadata": {
        "id": "-s_iYvpC5Do-"
      },
      "source": [
        "#Manual Calculations"
      ]
    },
    {
      "cell_type": "code",
      "metadata": {
        "colab": {
          "base_uri": "https://localhost:8080/"
        },
        "id": "Xrj0ujbV5DEN",
        "outputId": "d6b17018-03bb-4b31-e333-d4d63a9c2361"
      },
      "source": [
        "def gradientc(x,y,m,c):\n",
        "  sum = 0\n",
        "  number_of_samples = len(x)\n",
        "  for i in range(number_of_samples):\n",
        "    gradc_of_i = (y[i]- m*x[i] - c)\n",
        "    sum = sum + gradc_of_i\n",
        "  gradc = -1*(1/number_of_samples)*sum\n",
        "  return gradc\n",
        "\n",
        "def gradientm(x,y,m,c):\n",
        "  sum = 0\n",
        "  number_of_samples = len(x)\n",
        "  for i in range(number_of_samples):\n",
        "    gradm_of_i = (y[i]- m*x[i] - c)*x[i]\n",
        "    sum = sum + gradm_of_i\n",
        "  gradm = -1*(1/number_of_samples)*sum\n",
        "  return gradm\n",
        "\n",
        "x = [0.2,0.4,0.6,0.8,1.0,1.2]\n",
        "y = [3.4,3.8,4.2,4.6,5.0,5.4]\n",
        "\n",
        "print(\"sample x values : \", x)\n",
        "print(\"sample y values : \", y)\n",
        "\n",
        "m = 1\n",
        "c = -1\n",
        "print(\"initial m value : \",m)\n",
        "print(\"initial c value : \",c)\n",
        "\n",
        "learning_rate = 0.01\n",
        "print(\"learning rate : \",learning_rate)\n",
        "\n",
        "print(\"\\nEpoch 1\")\n",
        "gradient_m = gradientm(x,y,m,c)\n",
        "print(\"gradient of m : \",gradient_m)\n",
        "gradient_c = gradientc(x,y,m,c)\n",
        "print(\"gradient of c : \",gradient_c)\n",
        "deltam = -1*learning_rate*gradient_m\n",
        "deltac = -1*learning_rate*gradient_c\n",
        "print(\"delta m : \",deltam)\n",
        "print(\"delta c : \",deltac)\n",
        "m = m + deltam\n",
        "print(\"m : \",m)\n",
        "c = c + deltac\n",
        "print(\"c : \",c)\n",
        "\n",
        "print(\"\\nEpoch 2\")\n",
        "gradient_m = gradientm(x,y,m,c)\n",
        "print(\"gradient of m : \",gradient_m)\n",
        "gradient_c = gradientc(x,y,m,c)\n",
        "print(\"gradient of c : \",gradient_c)\n",
        "deltam = -1*learning_rate*gradient_m\n",
        "deltac = -1*learning_rate*gradient_c\n",
        "print(\"delta m : \",deltam)\n",
        "print(\"delta c : \",deltac)\n",
        "m = m + deltam\n",
        "print(\"m : \",m)\n",
        "c = c + deltac\n",
        "print(\"c : \",c)"
      ],
      "execution_count": 4,
      "outputs": [
        {
          "output_type": "stream",
          "text": [
            "sample x values :  [0.2, 0.4, 0.6, 0.8, 1.0, 1.2]\n",
            "sample y values :  [3.4, 3.8, 4.2, 4.6, 5.0, 5.4]\n",
            "initial m value :  1\n",
            "initial c value :  -1\n",
            "learning rate :  0.01\n",
            "\n",
            "Epoch 1\n",
            "gradient of m :  -3.4066666666666663\n",
            "gradient of c :  -4.699999999999999\n",
            "delta m :  0.03406666666666666\n",
            "delta c :  0.04699999999999999\n",
            "m :  1.0340666666666667\n",
            "c :  -0.953\n",
            "\n",
            "Epoch 2\n",
            "gradient of m :  -3.3530995555555556\n",
            "gradient of c :  -4.629153333333333\n",
            "delta m :  0.033530995555555554\n",
            "delta c :  0.04629153333333333\n",
            "m :  1.0675976622222223\n",
            "c :  -0.9067084666666666\n"
          ],
          "name": "stdout"
        }
      ]
    },
    {
      "cell_type": "markdown",
      "metadata": {
        "id": "f-xioZdx5ENO"
      },
      "source": [
        "#Code"
      ]
    },
    {
      "cell_type": "code",
      "metadata": {
        "id": "Mxf-_4vY40YD"
      },
      "source": [
        "import math\n",
        "import matplotlib.pyplot as plt"
      ],
      "execution_count": 2,
      "outputs": []
    },
    {
      "cell_type": "code",
      "metadata": {
        "colab": {
          "base_uri": "https://localhost:8080/"
        },
        "id": "eS6bBXVV43bs",
        "outputId": "5fb1a3bb-1c53-49a7-bf2b-bce075a365c7"
      },
      "source": [
        "x = [0.2,0.4,0.6,0.8,1.0,1.2]\n",
        "y = [3.4,3.8,4.2,4.6,5.0,5.4]\n",
        "\n",
        "m = 1\n",
        "c = -1\n",
        "\n",
        "learning_rate = 0.1\n",
        "epochs = 300\n",
        "error_list = []\n",
        "\n",
        "def gradientm(x,y,m,c):\n",
        "  sum = 0\n",
        "  number_of_samples = len(x)\n",
        "  for i in range(number_of_samples):\n",
        "    gradm_of_i = (y[i]- m*x[i] - c)*x[i]\n",
        "    sum = sum + gradm_of_i\n",
        "  gradm = -1*(1/number_of_samples)*sum\n",
        "  return gradm\n",
        "\n",
        "def gradientc(x,y,m,c):\n",
        "  sum = 0\n",
        "  number_of_samples = len(x)\n",
        "  for i in range(number_of_samples):\n",
        "    gradc_of_i = (y[i]- m*x[i] - c)\n",
        "    sum = sum + gradc_of_i\n",
        "  gradc = -1*(1/number_of_samples)*sum\n",
        "  return gradc\n",
        "\n",
        "def error(x,y,m,c):\n",
        "  number_of_samples = len(x)\n",
        "  for i in range(number_of_samples):\n",
        "    error_value = 1*0.5*(1/number_of_samples)*math.pow((y[i] - m*x[i] - c), 2)\n",
        "  return error_value\n",
        "\n",
        "\n",
        "for i in range(epochs):\n",
        "  error_list.append(error(x,y,m,c))\n",
        "  deltam = -1*learning_rate*gradientm(x,y,m,c)\n",
        "  deltac = -1*learning_rate*gradientc(x,y,m,c)\n",
        "  m = m + deltam\n",
        "  c = c + deltac\n",
        "\n",
        "print(m,c)"
      ],
      "execution_count": 3,
      "outputs": [
        {
          "output_type": "stream",
          "text": [
            "2.129913563101812 2.901556021161016\n"
          ],
          "name": "stdout"
        }
      ]
    },
    {
      "cell_type": "code",
      "metadata": {
        "id": "d_5m8Rz-5AUn"
      },
      "source": [
        ""
      ],
      "execution_count": null,
      "outputs": []
    }
  ]
}