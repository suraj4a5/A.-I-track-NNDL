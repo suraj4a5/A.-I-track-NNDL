{
  "nbformat": 4,
  "nbformat_minor": 0,
  "metadata": {
    "colab": {
      "name": "Assignment 12.ipynb",
      "provenance": []
    },
    "kernelspec": {
      "name": "python3",
      "display_name": "Python 3"
    }
  },
  "cells": [
    {
      "cell_type": "code",
      "metadata": {
        "id": "aTowGm9tOHxn"
      },
      "source": [
        "import pandas as pd\n",
        "import numpy as np\n",
        "import math\n",
        "import random\n",
        "import matplotlib.pyplot as plt\n",
        "from random import shuffle\n",
        "from sklearn.preprocessing import minmax_scale\n",
        "from sklearn.model_selection import train_test_split"
      ],
      "execution_count": 3,
      "outputs": []
    },
    {
      "cell_type": "code",
      "metadata": {
        "colab": {
          "base_uri": "https://localhost:8080/",
          "height": 206
        },
        "id": "EF7D2PX-oWCj",
        "outputId": "7a1c3f7a-9b24-4c67-fe4f-f6b218e98581"
      },
      "source": [
        "load_data = pd.read_excel(\"/content/Load Data in kW.xlsx\")\n",
        "load_data.head()"
      ],
      "execution_count": 4,
      "outputs": [
        {
          "output_type": "execute_result",
          "data": {
            "text/html": [
              "<div>\n",
              "<style scoped>\n",
              "    .dataframe tbody tr th:only-of-type {\n",
              "        vertical-align: middle;\n",
              "    }\n",
              "\n",
              "    .dataframe tbody tr th {\n",
              "        vertical-align: top;\n",
              "    }\n",
              "\n",
              "    .dataframe thead th {\n",
              "        text-align: right;\n",
              "    }\n",
              "</style>\n",
              "<table border=\"1\" class=\"dataframe\">\n",
              "  <thead>\n",
              "    <tr style=\"text-align: right;\">\n",
              "      <th></th>\n",
              "      <th>5551.82208</th>\n",
              "    </tr>\n",
              "  </thead>\n",
              "  <tbody>\n",
              "    <tr>\n",
              "      <th>0</th>\n",
              "      <td>4983.17184</td>\n",
              "    </tr>\n",
              "    <tr>\n",
              "      <th>1</th>\n",
              "      <td>4888.39680</td>\n",
              "    </tr>\n",
              "    <tr>\n",
              "      <th>2</th>\n",
              "      <td>5072.95872</td>\n",
              "    </tr>\n",
              "    <tr>\n",
              "      <th>3</th>\n",
              "      <td>5196.25980</td>\n",
              "    </tr>\n",
              "    <tr>\n",
              "      <th>4</th>\n",
              "      <td>5641.29720</td>\n",
              "    </tr>\n",
              "  </tbody>\n",
              "</table>\n",
              "</div>"
            ],
            "text/plain": [
              "   5551.82208\n",
              "0  4983.17184\n",
              "1  4888.39680\n",
              "2  5072.95872\n",
              "3  5196.25980\n",
              "4  5641.29720"
            ]
          },
          "metadata": {
            "tags": []
          },
          "execution_count": 4
        }
      ]
    },
    {
      "cell_type": "code",
      "metadata": {
        "colab": {
          "base_uri": "https://localhost:8080/",
          "height": 300
        },
        "id": "dga_n8-i-opf",
        "outputId": "453a8552-3432-4a4b-ac47-343c70aeab4a"
      },
      "source": [
        "load_data.describe()"
      ],
      "execution_count": 5,
      "outputs": [
        {
          "output_type": "execute_result",
          "data": {
            "text/html": [
              "<div>\n",
              "<style scoped>\n",
              "    .dataframe tbody tr th:only-of-type {\n",
              "        vertical-align: middle;\n",
              "    }\n",
              "\n",
              "    .dataframe tbody tr th {\n",
              "        vertical-align: top;\n",
              "    }\n",
              "\n",
              "    .dataframe thead th {\n",
              "        text-align: right;\n",
              "    }\n",
              "</style>\n",
              "<table border=\"1\" class=\"dataframe\">\n",
              "  <thead>\n",
              "    <tr style=\"text-align: right;\">\n",
              "      <th></th>\n",
              "      <th>5551.82208</th>\n",
              "    </tr>\n",
              "  </thead>\n",
              "  <tbody>\n",
              "    <tr>\n",
              "      <th>count</th>\n",
              "      <td>2183.000000</td>\n",
              "    </tr>\n",
              "    <tr>\n",
              "      <th>mean</th>\n",
              "      <td>6393.616060</td>\n",
              "    </tr>\n",
              "    <tr>\n",
              "      <th>std</th>\n",
              "      <td>17143.020064</td>\n",
              "    </tr>\n",
              "    <tr>\n",
              "      <th>min</th>\n",
              "      <td>3377.919600</td>\n",
              "    </tr>\n",
              "    <tr>\n",
              "      <th>25%</th>\n",
              "      <td>5257.520640</td>\n",
              "    </tr>\n",
              "    <tr>\n",
              "      <th>50%</th>\n",
              "      <td>5935.910400</td>\n",
              "    </tr>\n",
              "    <tr>\n",
              "      <th>75%</th>\n",
              "      <td>6738.692400</td>\n",
              "    </tr>\n",
              "    <tr>\n",
              "      <th>max</th>\n",
              "      <td>805444.430400</td>\n",
              "    </tr>\n",
              "  </tbody>\n",
              "</table>\n",
              "</div>"
            ],
            "text/plain": [
              "          5551.82208\n",
              "count    2183.000000\n",
              "mean     6393.616060\n",
              "std     17143.020064\n",
              "min      3377.919600\n",
              "25%      5257.520640\n",
              "50%      5935.910400\n",
              "75%      6738.692400\n",
              "max    805444.430400"
            ]
          },
          "metadata": {
            "tags": []
          },
          "execution_count": 5
        }
      ]
    },
    {
      "cell_type": "code",
      "metadata": {
        "colab": {
          "base_uri": "https://localhost:8080/"
        },
        "id": "3_Rawo0dooFy",
        "outputId": "4a58912b-b3d6-4bc1-c5ea-1fd09fefaa5d"
      },
      "source": [
        "load_data.info()"
      ],
      "execution_count": 6,
      "outputs": [
        {
          "output_type": "stream",
          "text": [
            "<class 'pandas.core.frame.DataFrame'>\n",
            "RangeIndex: 2183 entries, 0 to 2182\n",
            "Data columns (total 1 columns):\n",
            " #   Column      Non-Null Count  Dtype  \n",
            "---  ------      --------------  -----  \n",
            " 0   5551.82208  2183 non-null   float64\n",
            "dtypes: float64(1)\n",
            "memory usage: 17.2 KB\n"
          ],
          "name": "stdout"
        }
      ]
    },
    {
      "cell_type": "code",
      "metadata": {
        "colab": {
          "base_uri": "https://localhost:8080/",
          "height": 412
        },
        "id": "qMLmbY6UyZcH",
        "outputId": "711f8005-b46f-42d8-cabb-00c38dd0bbd7"
      },
      "source": [
        "plt.boxplot(load_data.iloc[:,0])"
      ],
      "execution_count": 7,
      "outputs": [
        {
          "output_type": "execute_result",
          "data": {
            "text/plain": [
              "{'boxes': [<matplotlib.lines.Line2D at 0x7fae82a9c5d0>],\n",
              " 'caps': [<matplotlib.lines.Line2D at 0x7fae82a34550>,\n",
              "  <matplotlib.lines.Line2D at 0x7fae82a34fd0>],\n",
              " 'fliers': [<matplotlib.lines.Line2D at 0x7fae82a483d0>],\n",
              " 'means': [],\n",
              " 'medians': [<matplotlib.lines.Line2D at 0x7fae82a488d0>],\n",
              " 'whiskers': [<matplotlib.lines.Line2D at 0x7fae82a314d0>,\n",
              "  <matplotlib.lines.Line2D at 0x7fae82a31c90>]}"
            ]
          },
          "metadata": {
            "tags": []
          },
          "execution_count": 7
        },
        {
          "output_type": "display_data",
          "data": {
            "image/png": "[encoded data removed]",
            "text/plain": [
              "<Figure size 432x288 with 1 Axes>"
            ]
          },
          "metadata": {
            "tags": [],
            "needs_background": "light"
          }
        }
      ]
    },
    {
      "cell_type": "code",
      "metadata": {
        "colab": {
          "base_uri": "https://localhost:8080/"
        },
        "id": "T_Pbszf3xG0k",
        "outputId": "268630ce-739f-42bd-8f7e-ead3ebecf180"
      },
      "source": [
        "from scipy import stats\n",
        "\n",
        "z = np.abs(stats.zscore(load_data.iloc[:,0]))\n",
        "\n",
        "threshold = 3\n",
        "print(np.where(z > 3))"
      ],
      "execution_count": 8,
      "outputs": [
        {
          "output_type": "stream",
          "text": [
            "(array([928]),)\n"
          ],
          "name": "stdout"
        }
      ]
    },
    {
      "cell_type": "code",
      "metadata": {
        "id": "iLV2c9Wsx8qq"
      },
      "source": [
        "load_data.iloc[928,0] = load_data.iloc[927,0]"
      ],
      "execution_count": 9,
      "outputs": []
    },
    {
      "cell_type": "code",
      "metadata": {
        "colab": {
          "base_uri": "https://localhost:8080/",
          "height": 412
        },
        "id": "YYwSlHekyQK5",
        "outputId": "b9f383d2-4ae2-4473-dacf-ecdaa31b5ee9"
      },
      "source": [
        "plt.boxplot(load_data.iloc[:,0])"
      ],
      "execution_count": 10,
      "outputs": [
        {
          "output_type": "execute_result",
          "data": {
            "text/plain": [
              "{'boxes': [<matplotlib.lines.Line2D at 0x7fae8249d810>],\n",
              " 'caps': [<matplotlib.lines.Line2D at 0x7fae824a3850>,\n",
              "  <matplotlib.lines.Line2D at 0x7fae824a3d90>],\n",
              " 'fliers': [<matplotlib.lines.Line2D at 0x7fae824aa890>],\n",
              " 'means': [],\n",
              " 'medians': [<matplotlib.lines.Line2D at 0x7fae824aa350>],\n",
              " 'whiskers': [<matplotlib.lines.Line2D at 0x7fae8249dd90>,\n",
              "  <matplotlib.lines.Line2D at 0x7fae824a3310>]}"
            ]
          },
          "metadata": {
            "tags": []
          },
          "execution_count": 10
        },
        {
          "output_type": "display_data",
          "data": {
            "image/png": "[encoded data removed]",
            "text/plain": [
              "<Figure size 432x288 with 1 Axes>"
            ]
          },
          "metadata": {
            "tags": [],
            "needs_background": "light"
          }
        }
      ]
    },
    {
      "cell_type": "code",
      "metadata": {
        "id": "7mfA-DCJp5Gr"
      },
      "source": [
        "x = []\n",
        "y = []\n",
        "for i in range(len(load_data.iloc[:,0])-24):\n",
        "  x.append(load_data.iloc[i,0])\n",
        "  y.append(load_data.iloc[i+24,0])"
      ],
      "execution_count": 11,
      "outputs": []
    },
    {
      "cell_type": "code",
      "metadata": {
        "colab": {
          "base_uri": "https://localhost:8080/",
          "height": 283
        },
        "id": "ea5SGq2CtrqV",
        "outputId": "23bfcb18-d804-4e9f-9e54-509e67c89fe5"
      },
      "source": [
        "plt.scatter(x,y)"
      ],
      "execution_count": 12,
      "outputs": [
        {
          "output_type": "execute_result",
          "data": {
            "text/plain": [
              "<matplotlib.collections.PathCollection at 0x7fae82448d50>"
            ]
          },
          "metadata": {
            "tags": []
          },
          "execution_count": 12
        },
        {
          "output_type": "display_data",
          "data": {
            "image/png": "[encoded data removed]",
            "text/plain": [
              "<Figure size 432x288 with 1 Axes>"
            ]
          },
          "metadata": {
            "tags": [],
            "needs_background": "light"
          }
        }
      ]
    },
    {
      "cell_type": "code",
      "metadata": {
        "id": "pR7LrNwasX_B"
      },
      "source": [
        "def error(d,m,c):\n",
        "  sum = 0\n",
        "  for i in range(len(d)):\n",
        "    sum = sum + math.pow(d[i][1]-m*d[i][0]-c,2)\n",
        "  return 0.5*sum/len(d)\n",
        "\n",
        "def gradm(d,m,c,v_m,v_c,momentum_coeff):\n",
        "  sum = 0\n",
        "  for i in range(len(d)):\n",
        "    sum = sum + (d[i][1]-(m+momentum_coeff*v_m)*d[i][0]-(c+momentum_coeff*v_c))*d[i][0]\n",
        "  return -1*sum/len(d)\n",
        "\n",
        "def gradc(d,m,c,v_m,v_c,momentum_coeff):\n",
        "  sum = 0\n",
        "  for i in range(len(d)):\n",
        "    sum = sum + (d[i][1]-(m+momentum_coeff*v_m)*d[i][0]-(c+momentum_coeff*v_c))\n",
        "  return -1*sum/len(d)"
      ],
      "execution_count": 13,
      "outputs": []
    },
    {
      "cell_type": "code",
      "metadata": {
        "id": "nTVdJp1gzyUF"
      },
      "source": [
        "learning_rate = 0.01\n",
        "epochs = 20\n",
        "\n",
        "m = 1\n",
        "c = 1\n",
        "\n",
        "v_m = 0\n",
        "v_c = 0\n",
        "momentum_coeff = 0.9\n",
        "\n",
        "batch_size = 500"
      ],
      "execution_count": 14,
      "outputs": []
    },
    {
      "cell_type": "code",
      "metadata": {
        "id": "-NM67t5N3zx1"
      },
      "source": [
        "x = minmax_scale(x)\n",
        "y = minmax_scale(y)"
      ],
      "execution_count": 15,
      "outputs": []
    },
    {
      "cell_type": "code",
      "metadata": {
        "colab": {
          "base_uri": "https://localhost:8080/"
        },
        "id": "AxxnYjFS0G1H",
        "outputId": "1c6f5d8d-7687-4908-96de-429b17bad114"
      },
      "source": [
        "data = []\n",
        "\n",
        "for i in range(len(x)):\n",
        "  data.append((x[i],y[i]))\n",
        "\n",
        "print(len(data))\n",
        "\n",
        "data_train,data_test = train_test_split(data,test_size=0.1)\n",
        "\n",
        "len(data_train)"
      ],
      "execution_count": 17,
      "outputs": [
        {
          "output_type": "stream",
          "text": [
            "2159\n"
          ],
          "name": "stdout"
        },
        {
          "output_type": "execute_result",
          "data": {
            "text/plain": [
              "1943"
            ]
          },
          "metadata": {
            "tags": []
          },
          "execution_count": 17
        }
      ]
    },
    {
      "cell_type": "code",
      "metadata": {
        "colab": {
          "base_uri": "https://localhost:8080/"
        },
        "id": "37ibCxL20Qo6",
        "outputId": "7a8417de-de3e-4ae1-8d60-68f0d446d920"
      },
      "source": [
        "error_list = []\n",
        "number_of_batches = (len(data_train)//batch_size)\n",
        "for i in range(epochs):\n",
        "  for j in range(number_of_batches+1):\n",
        "    if j == number_of_batches:\n",
        "      d = data_train[j*batch_size:]\n",
        "    else:\n",
        "      d = data_train[j*batch_size:(j+1)*batch_size]\n",
        "\n",
        "    deltam = -1*learning_rate*gradm(d,m,c,v_m,v_c,momentum_coeff)\n",
        "    deltac = -1*learning_rate*gradc(d,m,c,v_m,v_c,momentum_coeff)\n",
        "\n",
        "    v_m = v_m*momentum_coeff + deltam\n",
        "    v_c = v_c*momentum_coeff + deltac\n",
        "\n",
        "    m = m + v_m\n",
        "    c = c + v_c\n",
        "\n",
        "    print(\"epoch {}, batch {}, error {}\".format(i,j,error(d,m,c)))\n",
        "    error_list.append(error(d,m,c))\n",
        "  random.shuffle(data_train)"
      ],
      "execution_count": 19,
      "outputs": [
        {
          "output_type": "stream",
          "text": [
            "epoch 0, batch 0, error 0.49166921845823397\n",
            "epoch 0, batch 1, error 0.47443418182669433\n",
            "epoch 0, batch 2, error 0.4459043909583128\n",
            "epoch 0, batch 3, error 0.4167461093188666\n",
            "epoch 1, batch 0, error 0.364274398866887\n",
            "epoch 1, batch 1, error 0.32644401360438213\n",
            "epoch 1, batch 2, error 0.2766354565883863\n",
            "epoch 1, batch 3, error 0.2415184884432721\n",
            "epoch 2, batch 0, error 0.20512862366082307\n",
            "epoch 2, batch 1, error 0.16062046173936625\n",
            "epoch 2, batch 2, error 0.12928309500442145\n",
            "epoch 2, batch 3, error 0.09857168740223737\n",
            "epoch 3, batch 0, error 0.07867701448659073\n",
            "epoch 3, batch 1, error 0.056732114778259145\n",
            "epoch 3, batch 2, error 0.04451428797497584\n",
            "epoch 3, batch 3, error 0.027376063207932455\n",
            "epoch 4, batch 0, error 0.02039715045867199\n",
            "epoch 4, batch 1, error 0.01607569921235072\n",
            "epoch 4, batch 2, error 0.010071323902104542\n",
            "epoch 4, batch 3, error 0.010691239869680076\n",
            "epoch 5, batch 0, error 0.009215353018665813\n",
            "epoch 5, batch 1, error 0.010340003489210773\n",
            "epoch 5, batch 2, error 0.010143985585754838\n",
            "epoch 5, batch 3, error 0.0121029122860023\n",
            "epoch 6, batch 0, error 0.014675644126000828\n",
            "epoch 6, batch 1, error 0.01594055281112276\n",
            "epoch 6, batch 2, error 0.01644052828380214\n",
            "epoch 6, batch 3, error 0.019650746069704832\n",
            "epoch 7, batch 0, error 0.02097919458220097\n",
            "epoch 7, batch 1, error 0.019773512021620584\n",
            "epoch 7, batch 2, error 0.01981200660871889\n",
            "epoch 7, batch 3, error 0.021079851909762973\n",
            "epoch 8, batch 0, error 0.022302772094108456\n",
            "epoch 8, batch 1, error 0.01727413894131347\n",
            "epoch 8, batch 2, error 0.0188719268836931\n",
            "epoch 8, batch 3, error 0.01880295550966261\n",
            "epoch 9, batch 0, error 0.016778087618026516\n",
            "epoch 9, batch 1, error 0.01578331665608898\n",
            "epoch 9, batch 2, error 0.015703778205852146\n",
            "epoch 9, batch 3, error 0.01405757947112204\n",
            "epoch 10, batch 0, error 0.013242775579093289\n",
            "epoch 10, batch 1, error 0.01247526542716653\n",
            "epoch 10, batch 2, error 0.012203102180136495\n",
            "epoch 10, batch 3, error 0.01031468610927738\n",
            "epoch 11, batch 0, error 0.011079787056664719\n",
            "epoch 11, batch 1, error 0.009087767169599087\n",
            "epoch 11, batch 2, error 0.010658411187477443\n",
            "epoch 11, batch 3, error 0.008586862840867099\n",
            "epoch 12, batch 0, error 0.008848136365797926\n",
            "epoch 12, batch 1, error 0.008872767235565758\n",
            "epoch 12, batch 2, error 0.008619746190405663\n",
            "epoch 12, batch 3, error 0.009799718601187413\n",
            "epoch 13, batch 0, error 0.009561851499016125\n",
            "epoch 13, batch 1, error 0.008043900722164654\n",
            "epoch 13, batch 2, error 0.008925710877807046\n",
            "epoch 13, batch 3, error 0.009203462582676306\n",
            "epoch 14, batch 0, error 0.008494385609822065\n",
            "epoch 14, batch 1, error 0.008369788272435789\n",
            "epoch 14, batch 2, error 0.01007374272406598\n",
            "epoch 14, batch 3, error 0.009403421900231869\n",
            "epoch 15, batch 0, error 0.008023360201212554\n",
            "epoch 15, batch 1, error 0.010853920559861185\n",
            "epoch 15, batch 2, error 0.009302258037533906\n",
            "epoch 15, batch 3, error 0.008333098727196883\n",
            "epoch 16, batch 0, error 0.00971970764779978\n",
            "epoch 16, batch 1, error 0.008324840901020451\n",
            "epoch 16, batch 2, error 0.009595160391689613\n",
            "epoch 16, batch 3, error 0.008770025279868556\n",
            "epoch 17, batch 0, error 0.009954446389095805\n",
            "epoch 17, batch 1, error 0.008544067398815679\n",
            "epoch 17, batch 2, error 0.008276396904728619\n",
            "epoch 17, batch 3, error 0.00932035713213298\n",
            "epoch 18, batch 0, error 0.008243839125133995\n",
            "epoch 18, batch 1, error 0.009655760430812286\n",
            "epoch 18, batch 2, error 0.009604945895971558\n",
            "epoch 18, batch 3, error 0.008104291471048627\n",
            "epoch 19, batch 0, error 0.008406398850305617\n",
            "epoch 19, batch 1, error 0.00927614840191324\n",
            "epoch 19, batch 2, error 0.00898371388749727\n",
            "epoch 19, batch 3, error 0.008803219622118828\n"
          ],
          "name": "stdout"
        }
      ]
    },
    {
      "cell_type": "code",
      "metadata": {
        "colab": {
          "base_uri": "https://localhost:8080/",
          "height": 299
        },
        "id": "rMuEyDit_3uV",
        "outputId": "2d02fefc-3efe-4549-a293-d42892fef6e1"
      },
      "source": [
        "x1 = range(len(error_list))\n",
        "y1 = error_list\n",
        "\n",
        "plt.plot(x1,y1)\n",
        "plt.title(\"error graph\")"
      ],
      "execution_count": 20,
      "outputs": [
        {
          "output_type": "execute_result",
          "data": {
            "text/plain": [
              "Text(0.5, 1.0, 'error graph')"
            ]
          },
          "metadata": {
            "tags": []
          },
          "execution_count": 20
        },
        {
          "output_type": "display_data",
          "data": {
            "image/png": "[encoded data removed]",
            "text/plain": [
              "<Figure size 432x288 with 1 Axes>"
            ]
          },
          "metadata": {
            "tags": [],
            "needs_background": "light"
          }
        }
      ]
    },
    {
      "cell_type": "code",
      "metadata": {
        "colab": {
          "base_uri": "https://localhost:8080/"
        },
        "id": "EU5dh0ls54P9",
        "outputId": "5f95e278-f5b2-4820-958a-4e68d95b8b59"
      },
      "source": [
        "print(\"train error :\",error(data_train,m,c))\n",
        "print(\"test error :\",error(data_test,m,c))"
      ],
      "execution_count": 21,
      "outputs": [
        {
          "output_type": "stream",
          "text": [
            "train error : 0.00885666572412213\n",
            "test error : 0.008769809974383216\n"
          ],
          "name": "stdout"
        }
      ]
    },
    {
      "cell_type": "code",
      "metadata": {
        "colab": {
          "base_uri": "https://localhost:8080/"
        },
        "id": "i5f3T-lz0c7I",
        "outputId": "f3497407-4e47-4a22-ea26-7493c3247766"
      },
      "source": [
        "print(m,c)"
      ],
      "execution_count": 22,
      "outputs": [
        {
          "output_type": "stream",
          "text": [
            "0.6291661841283727 0.1846570007066917\n"
          ],
          "name": "stdout"
        }
      ]
    },
    {
      "cell_type": "code",
      "metadata": {
        "colab": {
          "base_uri": "https://localhost:8080/",
          "height": 283
        },
        "id": "KYdLnWxQ1bTu",
        "outputId": "8862d27a-3b54-40de-8295-41f9f96c10fe"
      },
      "source": [
        "plt.scatter(x,y)"
      ],
      "execution_count": 23,
      "outputs": [
        {
          "output_type": "execute_result",
          "data": {
            "text/plain": [
              "<matplotlib.collections.PathCollection at 0x7fae8298f490>"
            ]
          },
          "metadata": {
            "tags": []
          },
          "execution_count": 23
        },
        {
          "output_type": "display_data",
          "data": {
            "image/png": "[encoded data removed]",
            "text/plain": [
              "<Figure size 432x288 with 1 Axes>"
            ]
          },
          "metadata": {
            "tags": [],
            "needs_background": "light"
          }
        }
      ]
    },
    {
      "cell_type": "code",
      "metadata": {
        "colab": {
          "base_uri": "https://localhost:8080/",
          "height": 299
        },
        "id": "YUNq3J-w60JM",
        "outputId": "77fd9417-143e-47b6-b002-adece6ffe87b"
      },
      "source": [
        "x1 = x\n",
        "y1 = [i*m+c for i in x1]\n",
        "plt.plot(x1,y1)\n",
        "plt.title(\"predicted line\")"
      ],
      "execution_count": 24,
      "outputs": [
        {
          "output_type": "execute_result",
          "data": {
            "text/plain": [
              "Text(0.5, 1.0, 'predicted line')"
            ]
          },
          "metadata": {
            "tags": []
          },
          "execution_count": 24
        },
        {
          "output_type": "display_data",
          "data": {
            "image/png": "[encoded data removed]",
            "text/plain": [
              "<Figure size 432x288 with 1 Axes>"
            ]
          },
          "metadata": {
            "tags": [],
            "needs_background": "light"
          }
        }
      ]
    },
    {
      "cell_type": "code",
      "metadata": {
        "colab": {
          "base_uri": "https://localhost:8080/",
          "height": 283
        },
        "id": "EPa5r3Za9g8b",
        "outputId": "aef922a9-0618-4f1a-dbca-e47bddfeb627"
      },
      "source": [
        "plt.scatter(x,y)\n",
        "x1 = x\n",
        "y1 = [i*m+c for i in x1]\n",
        "plt.plot(x1,y1)"
      ],
      "execution_count": 25,
      "outputs": [
        {
          "output_type": "execute_result",
          "data": {
            "text/plain": [
              "[<matplotlib.lines.Line2D at 0x7fae82b0cc10>]"
            ]
          },
          "metadata": {
            "tags": []
          },
          "execution_count": 25
        },
        {
          "output_type": "display_data",
          "data": {
            "image/png": "[encoded data removed]",
            "text/plain": [
              "<Figure size 432x288 with 1 Axes>"
            ]
          },
          "metadata": {
            "tags": [],
            "needs_background": "light"
          }
        }
      ]
    },
    {
      "cell_type": "code",
      "metadata": {
        "colab": {
          "base_uri": "https://localhost:8080/"
        },
        "id": "HcXoWOi_9rar",
        "outputId": "ea6857cb-67e8-43ad-b0b9-e25a0a52b229"
      },
      "source": [
        "input_load = float(input(\"enter yesterday load at this time : \"))\n",
        "\n",
        "max_value = 8841.669480\n",
        "min_value = 3377.919600\n",
        "\n",
        "input_load = (input_load - min_value)/(max_value-min_value)\n",
        "output_load = input_load*m+c\n",
        "\n",
        "output_load = output_load*(max_value-min_value)+min_value\n",
        "\n",
        "print(\"predicted load for this hour is : \",output_load)"
      ],
      "execution_count": 26,
      "outputs": [
        {
          "output_type": "stream",
          "text": [
            "enter yesterday load at this time : 4485\n",
            "predicted load for this hour is :  5083.376816243659\n"
          ],
          "name": "stdout"
        }
      ]
    },
    {
      "cell_type": "code",
      "metadata": {
        "id": "4LLwjghU_b-n"
      },
      "source": [
        ""
      ],
      "execution_count": null,
      "outputs": []
    }
  ]
}