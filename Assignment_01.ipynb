{
  "nbformat": 4,
  "nbformat_minor": 0,
  "metadata": {
    "colab": {
      "name": "Assignment 01.ipynb",
      "provenance": [],
      "collapsed_sections": []
    },
    "kernelspec": {
      "name": "python3",
      "display_name": "Python 3"
    }
  },
  "cells": [
    {
      "cell_type": "markdown",
      "metadata": {
        "id": "p5Xq2AM6T96K"
      },
      "source": [
        "#Manual Calculations"
      ]
    },
    {
      "cell_type": "code",
      "metadata": {
        "colab": {
          "base_uri": "https://localhost:8080/"
        },
        "id": "lgL7C4wWT6AM",
        "outputId": "26980ed2-a716-4bbe-fd11-8219073b2d5b"
      },
      "source": [
        "# given function is pow(x,4)+3*pow(x,2)+10\r\n",
        "\r\n",
        "x = 3 # initial x value\r\n",
        "learning_rate = 0.01 # learning rate\r\n",
        "print(\"learning rate : \",learning_rate)\r\n",
        "print(\"Initial x : \",x)\r\n",
        "\r\n",
        "print(\"\\nEpoch 1\")\r\n",
        "gradient_f_at_x = (4*x**3 + 6*x)\r\n",
        "print(\"gradient_f_at_x : \",gradient_f_at_x)\r\n",
        "delta_x = -1*learning_rate*gradient_f_at_x\r\n",
        "print(\"delta_x : \",delta_x)\r\n",
        "x = x + delta_x\r\n",
        "print(\"x : \",x)\r\n",
        "\r\n",
        "print(\"\\nEpoch 2\")\r\n",
        "gradient_f_at_x = (4*x**3 + 6*x)\r\n",
        "print(\"gradient_f_at_x : \",gradient_f_at_x)\r\n",
        "delta_x = -1*learning_rate*gradient_f_at_x\r\n",
        "print(\"delta_x : \",delta_x)\r\n",
        "x = x + delta_x\r\n",
        "print(\"x : \",x)"
      ],
      "execution_count": 2,
      "outputs": [
        {
          "output_type": "stream",
          "text": [
            "learning rate :  0.01\n",
            "Initial x :  3\n",
            "\n",
            "Epoch 1\n",
            "gradient_f_at_x :  126\n",
            "delta_x :  -1.26\n",
            "x :  1.74\n",
            "\n",
            "Epoch 2\n",
            "gradient_f_at_x :  31.512096\n",
            "delta_x :  -0.31512096\n",
            "x :  1.42487904\n"
          ],
          "name": "stdout"
        }
      ]
    },
    {
      "cell_type": "markdown",
      "metadata": {
        "id": "T9czETO1T89N"
      },
      "source": [
        "#Code"
      ]
    },
    {
      "cell_type": "code",
      "metadata": {
        "id": "MSm92kQ6_wWc"
      },
      "source": [
        "# given function is pow(x,4)+3*pow(x,2)+10\r\n",
        "\r\n",
        "x = 3 # initial x value\r\n",
        "learning_rate = 0.01 # learning rate\r\n",
        "epochs = 100 # number of epochs\r\n",
        "\r\n",
        "# function to find the gradient descent\r\n",
        "def gradient(x):\r\n",
        "  return 4*pow(x,3)+6*x"
      ],
      "execution_count": 3,
      "outputs": []
    },
    {
      "cell_type": "code",
      "metadata": {
        "id": "wErYwerBAo7r"
      },
      "source": [
        "# training loop\r\n",
        "for i in range(0,epochs):\r\n",
        "  grad = gradient(x)\r\n",
        "  delta_x = -1*learning_rate*grad\r\n",
        "  x = x + delta_x"
      ],
      "execution_count": 4,
      "outputs": []
    },
    {
      "cell_type": "code",
      "metadata": {
        "colab": {
          "base_uri": "https://localhost:8080/"
        },
        "id": "2bXY3honBdDj",
        "outputId": "4e46c6d4-f885-440c-e47e-4f57cdbaafb2"
      },
      "source": [
        "# optimal value of x\r\n",
        "print(x)"
      ],
      "execution_count": 5,
      "outputs": [
        {
          "output_type": "stream",
          "text": [
            "0.002069222197565439\n"
          ],
          "name": "stdout"
        }
      ]
    },
    {
      "cell_type": "code",
      "metadata": {
        "colab": {
          "base_uri": "https://localhost:8080/"
        },
        "id": "PunuJEZGBxuQ",
        "outputId": "caff30a0-f106-4202-ed1b-21e5489637b4"
      },
      "source": [
        "# minimal value of the given function\r\n",
        "print(pow(x,4)+3*pow(x,2)+10)"
      ],
      "execution_count": 6,
      "outputs": [
        {
          "output_type": "stream",
          "text": [
            "10.00001284505984\n"
          ],
          "name": "stdout"
        }
      ]
    },
    {
      "cell_type": "code",
      "metadata": {
        "id": "sDPTNA44CmXg"
      },
      "source": [
        ""
      ],
      "execution_count": null,
      "outputs": []
    }
  ]
}