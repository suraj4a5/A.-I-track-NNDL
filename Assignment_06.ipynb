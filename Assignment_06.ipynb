{
  "nbformat": 4,
  "nbformat_minor": 0,
  "metadata": {
    "colab": {
      "name": "Assignment 06.ipynb",
      "provenance": []
    },
    "kernelspec": {
      "name": "python3",
      "display_name": "Python 3"
    }
  },
  "cells": [
    {
      "cell_type": "code",
      "metadata": {
        "id": "CT2et85bikjE"
      },
      "source": [
        "import math\n",
        "import random\n",
        "import matplotlib.pyplot as plt\n",
        "import pandas as pd\n",
        "import numpy as np\n",
        "import seaborn as sns\n",
        "from scipy import stats\n",
        "from sklearn.preprocessing import minmax_scale\n",
        "from sklearn.model_selection import train_test_split\n",
        "from random import shuffle"
      ],
      "execution_count": 2,
      "outputs": []
    },
    {
      "cell_type": "code",
      "metadata": {
        "id": "r3ka5oqMi7nh"
      },
      "source": [
        "def error(d,m,c):\n",
        "  sum = 0\n",
        "  for i in range(len(d)):\n",
        "    sum += math.pow(d[i][1]-m*d[i][0]-c,2)\n",
        "  return (1/2)*(1/len(d))*sum"
      ],
      "execution_count": 44,
      "outputs": []
    },
    {
      "cell_type": "code",
      "metadata": {
        "id": "rmAmMrjgi7k-"
      },
      "source": [
        "def gradm(d,m,c):\n",
        "  sum = 0\n",
        "  for i in range(len(d)):\n",
        "    sum = sum + (d[i][1]-m*d[i][0]-c)*d[i][0]\n",
        "  return -1*sum/len(d)"
      ],
      "execution_count": 4,
      "outputs": []
    },
    {
      "cell_type": "code",
      "metadata": {
        "id": "-OYwvLzYi7je"
      },
      "source": [
        "def gradc(d,m,c):\n",
        "  sum = 0\n",
        "  for i in range(len(d)):\n",
        "    sum = sum + (d[i][1]-m*d[i][0]-c)\n",
        "  return -1*sum/len(d)"
      ],
      "execution_count": 5,
      "outputs": []
    },
    {
      "cell_type": "code",
      "metadata": {
        "colab": {
          "base_uri": "https://localhost:8080/",
          "height": 226
        },
        "id": "0qYslFyUi7g1",
        "outputId": "a4b26228-26e4-485d-d4d0-82594a6e3c32"
      },
      "source": [
        "data = pd.read_csv(\"/content/kc_house_data.csv\")\n",
        "data.head()"
      ],
      "execution_count": 6,
      "outputs": [
        {
          "output_type": "execute_result",
          "data": {
            "text/html": [
              "<div>\n",
              "<style scoped>\n",
              "    .dataframe tbody tr th:only-of-type {\n",
              "        vertical-align: middle;\n",
              "    }\n",
              "\n",
              "    .dataframe tbody tr th {\n",
              "        vertical-align: top;\n",
              "    }\n",
              "\n",
              "    .dataframe thead th {\n",
              "        text-align: right;\n",
              "    }\n",
              "</style>\n",
              "<table border=\"1\" class=\"dataframe\">\n",
              "  <thead>\n",
              "    <tr style=\"text-align: right;\">\n",
              "      <th></th>\n",
              "      <th>id</th>\n",
              "      <th>date</th>\n",
              "      <th>price</th>\n",
              "      <th>bedrooms</th>\n",
              "      <th>bathrooms</th>\n",
              "      <th>sqft_living</th>\n",
              "      <th>sqft_lot</th>\n",
              "      <th>floors</th>\n",
              "      <th>waterfront</th>\n",
              "      <th>view</th>\n",
              "      <th>condition</th>\n",
              "      <th>grade</th>\n",
              "      <th>sqft_above</th>\n",
              "      <th>sqft_basement</th>\n",
              "      <th>yr_built</th>\n",
              "      <th>yr_renovated</th>\n",
              "      <th>zipcode</th>\n",
              "      <th>lat</th>\n",
              "      <th>long</th>\n",
              "      <th>sqft_living15</th>\n",
              "      <th>sqft_lot15</th>\n",
              "    </tr>\n",
              "  </thead>\n",
              "  <tbody>\n",
              "    <tr>\n",
              "      <th>0</th>\n",
              "      <td>7129300520</td>\n",
              "      <td>20141013T000000</td>\n",
              "      <td>221900.0</td>\n",
              "      <td>3</td>\n",
              "      <td>1.00</td>\n",
              "      <td>1180</td>\n",
              "      <td>5650</td>\n",
              "      <td>1.0</td>\n",
              "      <td>0</td>\n",
              "      <td>0</td>\n",
              "      <td>3</td>\n",
              "      <td>7</td>\n",
              "      <td>1180</td>\n",
              "      <td>0</td>\n",
              "      <td>1955</td>\n",
              "      <td>0</td>\n",
              "      <td>98178</td>\n",
              "      <td>47.5112</td>\n",
              "      <td>-122.257</td>\n",
              "      <td>1340</td>\n",
              "      <td>5650</td>\n",
              "    </tr>\n",
              "    <tr>\n",
              "      <th>1</th>\n",
              "      <td>6414100192</td>\n",
              "      <td>20141209T000000</td>\n",
              "      <td>538000.0</td>\n",
              "      <td>3</td>\n",
              "      <td>2.25</td>\n",
              "      <td>2570</td>\n",
              "      <td>7242</td>\n",
              "      <td>2.0</td>\n",
              "      <td>0</td>\n",
              "      <td>0</td>\n",
              "      <td>3</td>\n",
              "      <td>7</td>\n",
              "      <td>2170</td>\n",
              "      <td>400</td>\n",
              "      <td>1951</td>\n",
              "      <td>1991</td>\n",
              "      <td>98125</td>\n",
              "      <td>47.7210</td>\n",
              "      <td>-122.319</td>\n",
              "      <td>1690</td>\n",
              "      <td>7639</td>\n",
              "    </tr>\n",
              "    <tr>\n",
              "      <th>2</th>\n",
              "      <td>5631500400</td>\n",
              "      <td>20150225T000000</td>\n",
              "      <td>180000.0</td>\n",
              "      <td>2</td>\n",
              "      <td>1.00</td>\n",
              "      <td>770</td>\n",
              "      <td>10000</td>\n",
              "      <td>1.0</td>\n",
              "      <td>0</td>\n",
              "      <td>0</td>\n",
              "      <td>3</td>\n",
              "      <td>6</td>\n",
              "      <td>770</td>\n",
              "      <td>0</td>\n",
              "      <td>1933</td>\n",
              "      <td>0</td>\n",
              "      <td>98028</td>\n",
              "      <td>47.7379</td>\n",
              "      <td>-122.233</td>\n",
              "      <td>2720</td>\n",
              "      <td>8062</td>\n",
              "    </tr>\n",
              "    <tr>\n",
              "      <th>3</th>\n",
              "      <td>2487200875</td>\n",
              "      <td>20141209T000000</td>\n",
              "      <td>604000.0</td>\n",
              "      <td>4</td>\n",
              "      <td>3.00</td>\n",
              "      <td>1960</td>\n",
              "      <td>5000</td>\n",
              "      <td>1.0</td>\n",
              "      <td>0</td>\n",
              "      <td>0</td>\n",
              "      <td>5</td>\n",
              "      <td>7</td>\n",
              "      <td>1050</td>\n",
              "      <td>910</td>\n",
              "      <td>1965</td>\n",
              "      <td>0</td>\n",
              "      <td>98136</td>\n",
              "      <td>47.5208</td>\n",
              "      <td>-122.393</td>\n",
              "      <td>1360</td>\n",
              "      <td>5000</td>\n",
              "    </tr>\n",
              "    <tr>\n",
              "      <th>4</th>\n",
              "      <td>1954400510</td>\n",
              "      <td>20150218T000000</td>\n",
              "      <td>510000.0</td>\n",
              "      <td>3</td>\n",
              "      <td>2.00</td>\n",
              "      <td>1680</td>\n",
              "      <td>8080</td>\n",
              "      <td>1.0</td>\n",
              "      <td>0</td>\n",
              "      <td>0</td>\n",
              "      <td>3</td>\n",
              "      <td>8</td>\n",
              "      <td>1680</td>\n",
              "      <td>0</td>\n",
              "      <td>1987</td>\n",
              "      <td>0</td>\n",
              "      <td>98074</td>\n",
              "      <td>47.6168</td>\n",
              "      <td>-122.045</td>\n",
              "      <td>1800</td>\n",
              "      <td>7503</td>\n",
              "    </tr>\n",
              "  </tbody>\n",
              "</table>\n",
              "</div>"
            ],
            "text/plain": [
              "           id             date     price  ...     long  sqft_living15  sqft_lot15\n",
              "0  7129300520  20141013T000000  221900.0  ... -122.257           1340        5650\n",
              "1  6414100192  20141209T000000  538000.0  ... -122.319           1690        7639\n",
              "2  5631500400  20150225T000000  180000.0  ... -122.233           2720        8062\n",
              "3  2487200875  20141209T000000  604000.0  ... -122.393           1360        5000\n",
              "4  1954400510  20150218T000000  510000.0  ... -122.045           1800        7503\n",
              "\n",
              "[5 rows x 21 columns]"
            ]
          },
          "metadata": {
            "tags": []
          },
          "execution_count": 6
        }
      ]
    },
    {
      "cell_type": "code",
      "metadata": {
        "colab": {
          "base_uri": "https://localhost:8080/",
          "height": 320
        },
        "id": "YKmi8K6Ti7dV",
        "outputId": "34beae98-45e0-4a80-9fc9-36d35a903239"
      },
      "source": [
        "data.describe()"
      ],
      "execution_count": 7,
      "outputs": [
        {
          "output_type": "execute_result",
          "data": {
            "text/html": [
              "<div>\n",
              "<style scoped>\n",
              "    .dataframe tbody tr th:only-of-type {\n",
              "        vertical-align: middle;\n",
              "    }\n",
              "\n",
              "    .dataframe tbody tr th {\n",
              "        vertical-align: top;\n",
              "    }\n",
              "\n",
              "    .dataframe thead th {\n",
              "        text-align: right;\n",
              "    }\n",
              "</style>\n",
              "<table border=\"1\" class=\"dataframe\">\n",
              "  <thead>\n",
              "    <tr style=\"text-align: right;\">\n",
              "      <th></th>\n",
              "      <th>id</th>\n",
              "      <th>price</th>\n",
              "      <th>bedrooms</th>\n",
              "      <th>bathrooms</th>\n",
              "      <th>sqft_living</th>\n",
              "      <th>sqft_lot</th>\n",
              "      <th>floors</th>\n",
              "      <th>waterfront</th>\n",
              "      <th>view</th>\n",
              "      <th>condition</th>\n",
              "      <th>grade</th>\n",
              "      <th>sqft_above</th>\n",
              "      <th>sqft_basement</th>\n",
              "      <th>yr_built</th>\n",
              "      <th>yr_renovated</th>\n",
              "      <th>zipcode</th>\n",
              "      <th>lat</th>\n",
              "      <th>long</th>\n",
              "      <th>sqft_living15</th>\n",
              "      <th>sqft_lot15</th>\n",
              "    </tr>\n",
              "  </thead>\n",
              "  <tbody>\n",
              "    <tr>\n",
              "      <th>count</th>\n",
              "      <td>2.161300e+04</td>\n",
              "      <td>2.161300e+04</td>\n",
              "      <td>21613.000000</td>\n",
              "      <td>21613.000000</td>\n",
              "      <td>21613.000000</td>\n",
              "      <td>2.161300e+04</td>\n",
              "      <td>21613.000000</td>\n",
              "      <td>21613.000000</td>\n",
              "      <td>21613.000000</td>\n",
              "      <td>21613.000000</td>\n",
              "      <td>21613.000000</td>\n",
              "      <td>21613.000000</td>\n",
              "      <td>21613.000000</td>\n",
              "      <td>21613.000000</td>\n",
              "      <td>21613.000000</td>\n",
              "      <td>21613.000000</td>\n",
              "      <td>21613.000000</td>\n",
              "      <td>21613.000000</td>\n",
              "      <td>21613.000000</td>\n",
              "      <td>21613.000000</td>\n",
              "    </tr>\n",
              "    <tr>\n",
              "      <th>mean</th>\n",
              "      <td>4.580302e+09</td>\n",
              "      <td>5.400881e+05</td>\n",
              "      <td>3.370842</td>\n",
              "      <td>2.114757</td>\n",
              "      <td>2079.899736</td>\n",
              "      <td>1.510697e+04</td>\n",
              "      <td>1.494309</td>\n",
              "      <td>0.007542</td>\n",
              "      <td>0.234303</td>\n",
              "      <td>3.409430</td>\n",
              "      <td>7.656873</td>\n",
              "      <td>1788.390691</td>\n",
              "      <td>291.509045</td>\n",
              "      <td>1971.005136</td>\n",
              "      <td>84.402258</td>\n",
              "      <td>98077.939805</td>\n",
              "      <td>47.560053</td>\n",
              "      <td>-122.213896</td>\n",
              "      <td>1986.552492</td>\n",
              "      <td>12768.455652</td>\n",
              "    </tr>\n",
              "    <tr>\n",
              "      <th>std</th>\n",
              "      <td>2.876566e+09</td>\n",
              "      <td>3.671272e+05</td>\n",
              "      <td>0.930062</td>\n",
              "      <td>0.770163</td>\n",
              "      <td>918.440897</td>\n",
              "      <td>4.142051e+04</td>\n",
              "      <td>0.539989</td>\n",
              "      <td>0.086517</td>\n",
              "      <td>0.766318</td>\n",
              "      <td>0.650743</td>\n",
              "      <td>1.175459</td>\n",
              "      <td>828.090978</td>\n",
              "      <td>442.575043</td>\n",
              "      <td>29.373411</td>\n",
              "      <td>401.679240</td>\n",
              "      <td>53.505026</td>\n",
              "      <td>0.138564</td>\n",
              "      <td>0.140828</td>\n",
              "      <td>685.391304</td>\n",
              "      <td>27304.179631</td>\n",
              "    </tr>\n",
              "    <tr>\n",
              "      <th>min</th>\n",
              "      <td>1.000102e+06</td>\n",
              "      <td>7.500000e+04</td>\n",
              "      <td>0.000000</td>\n",
              "      <td>0.000000</td>\n",
              "      <td>290.000000</td>\n",
              "      <td>5.200000e+02</td>\n",
              "      <td>1.000000</td>\n",
              "      <td>0.000000</td>\n",
              "      <td>0.000000</td>\n",
              "      <td>1.000000</td>\n",
              "      <td>1.000000</td>\n",
              "      <td>290.000000</td>\n",
              "      <td>0.000000</td>\n",
              "      <td>1900.000000</td>\n",
              "      <td>0.000000</td>\n",
              "      <td>98001.000000</td>\n",
              "      <td>47.155900</td>\n",
              "      <td>-122.519000</td>\n",
              "      <td>399.000000</td>\n",
              "      <td>651.000000</td>\n",
              "    </tr>\n",
              "    <tr>\n",
              "      <th>25%</th>\n",
              "      <td>2.123049e+09</td>\n",
              "      <td>3.219500e+05</td>\n",
              "      <td>3.000000</td>\n",
              "      <td>1.750000</td>\n",
              "      <td>1427.000000</td>\n",
              "      <td>5.040000e+03</td>\n",
              "      <td>1.000000</td>\n",
              "      <td>0.000000</td>\n",
              "      <td>0.000000</td>\n",
              "      <td>3.000000</td>\n",
              "      <td>7.000000</td>\n",
              "      <td>1190.000000</td>\n",
              "      <td>0.000000</td>\n",
              "      <td>1951.000000</td>\n",
              "      <td>0.000000</td>\n",
              "      <td>98033.000000</td>\n",
              "      <td>47.471000</td>\n",
              "      <td>-122.328000</td>\n",
              "      <td>1490.000000</td>\n",
              "      <td>5100.000000</td>\n",
              "    </tr>\n",
              "    <tr>\n",
              "      <th>50%</th>\n",
              "      <td>3.904930e+09</td>\n",
              "      <td>4.500000e+05</td>\n",
              "      <td>3.000000</td>\n",
              "      <td>2.250000</td>\n",
              "      <td>1910.000000</td>\n",
              "      <td>7.618000e+03</td>\n",
              "      <td>1.500000</td>\n",
              "      <td>0.000000</td>\n",
              "      <td>0.000000</td>\n",
              "      <td>3.000000</td>\n",
              "      <td>7.000000</td>\n",
              "      <td>1560.000000</td>\n",
              "      <td>0.000000</td>\n",
              "      <td>1975.000000</td>\n",
              "      <td>0.000000</td>\n",
              "      <td>98065.000000</td>\n",
              "      <td>47.571800</td>\n",
              "      <td>-122.230000</td>\n",
              "      <td>1840.000000</td>\n",
              "      <td>7620.000000</td>\n",
              "    </tr>\n",
              "    <tr>\n",
              "      <th>75%</th>\n",
              "      <td>7.308900e+09</td>\n",
              "      <td>6.450000e+05</td>\n",
              "      <td>4.000000</td>\n",
              "      <td>2.500000</td>\n",
              "      <td>2550.000000</td>\n",
              "      <td>1.068800e+04</td>\n",
              "      <td>2.000000</td>\n",
              "      <td>0.000000</td>\n",
              "      <td>0.000000</td>\n",
              "      <td>4.000000</td>\n",
              "      <td>8.000000</td>\n",
              "      <td>2210.000000</td>\n",
              "      <td>560.000000</td>\n",
              "      <td>1997.000000</td>\n",
              "      <td>0.000000</td>\n",
              "      <td>98118.000000</td>\n",
              "      <td>47.678000</td>\n",
              "      <td>-122.125000</td>\n",
              "      <td>2360.000000</td>\n",
              "      <td>10083.000000</td>\n",
              "    </tr>\n",
              "    <tr>\n",
              "      <th>max</th>\n",
              "      <td>9.900000e+09</td>\n",
              "      <td>7.700000e+06</td>\n",
              "      <td>33.000000</td>\n",
              "      <td>8.000000</td>\n",
              "      <td>13540.000000</td>\n",
              "      <td>1.651359e+06</td>\n",
              "      <td>3.500000</td>\n",
              "      <td>1.000000</td>\n",
              "      <td>4.000000</td>\n",
              "      <td>5.000000</td>\n",
              "      <td>13.000000</td>\n",
              "      <td>9410.000000</td>\n",
              "      <td>4820.000000</td>\n",
              "      <td>2015.000000</td>\n",
              "      <td>2015.000000</td>\n",
              "      <td>98199.000000</td>\n",
              "      <td>47.777600</td>\n",
              "      <td>-121.315000</td>\n",
              "      <td>6210.000000</td>\n",
              "      <td>871200.000000</td>\n",
              "    </tr>\n",
              "  </tbody>\n",
              "</table>\n",
              "</div>"
            ],
            "text/plain": [
              "                 id         price  ...  sqft_living15     sqft_lot15\n",
              "count  2.161300e+04  2.161300e+04  ...   21613.000000   21613.000000\n",
              "mean   4.580302e+09  5.400881e+05  ...    1986.552492   12768.455652\n",
              "std    2.876566e+09  3.671272e+05  ...     685.391304   27304.179631\n",
              "min    1.000102e+06  7.500000e+04  ...     399.000000     651.000000\n",
              "25%    2.123049e+09  3.219500e+05  ...    1490.000000    5100.000000\n",
              "50%    3.904930e+09  4.500000e+05  ...    1840.000000    7620.000000\n",
              "75%    7.308900e+09  6.450000e+05  ...    2360.000000   10083.000000\n",
              "max    9.900000e+09  7.700000e+06  ...    6210.000000  871200.000000\n",
              "\n",
              "[8 rows x 20 columns]"
            ]
          },
          "metadata": {
            "tags": []
          },
          "execution_count": 7
        }
      ]
    },
    {
      "cell_type": "code",
      "metadata": {
        "colab": {
          "base_uri": "https://localhost:8080/"
        },
        "id": "EZBOhG5si7Zv",
        "outputId": "c0b51a11-4bbe-4801-d603-0abd1be1ba73"
      },
      "source": [
        "data.corr()['price']"
      ],
      "execution_count": 8,
      "outputs": [
        {
          "output_type": "execute_result",
          "data": {
            "text/plain": [
              "id              -0.016762\n",
              "price            1.000000\n",
              "bedrooms         0.308350\n",
              "bathrooms        0.525138\n",
              "sqft_living      0.702035\n",
              "sqft_lot         0.089661\n",
              "floors           0.256794\n",
              "waterfront       0.266369\n",
              "view             0.397293\n",
              "condition        0.036362\n",
              "grade            0.667434\n",
              "sqft_above       0.605567\n",
              "sqft_basement    0.323816\n",
              "yr_built         0.054012\n",
              "yr_renovated     0.126434\n",
              "zipcode         -0.053203\n",
              "lat              0.307003\n",
              "long             0.021626\n",
              "sqft_living15    0.585379\n",
              "sqft_lot15       0.082447\n",
              "Name: price, dtype: float64"
            ]
          },
          "metadata": {
            "tags": []
          },
          "execution_count": 8
        }
      ]
    },
    {
      "cell_type": "code",
      "metadata": {
        "colab": {
          "base_uri": "https://localhost:8080/"
        },
        "id": "Ek7WUj6Zi7Vm",
        "outputId": "5d6d8fb4-835f-4818-8a44-21d29a6f9d17"
      },
      "source": [
        "data.info()"
      ],
      "execution_count": 9,
      "outputs": [
        {
          "output_type": "stream",
          "text": [
            "<class 'pandas.core.frame.DataFrame'>\n",
            "RangeIndex: 21613 entries, 0 to 21612\n",
            "Data columns (total 21 columns):\n",
            " #   Column         Non-Null Count  Dtype  \n",
            "---  ------         --------------  -----  \n",
            " 0   id             21613 non-null  int64  \n",
            " 1   date           21613 non-null  object \n",
            " 2   price          21613 non-null  float64\n",
            " 3   bedrooms       21613 non-null  int64  \n",
            " 4   bathrooms      21613 non-null  float64\n",
            " 5   sqft_living    21613 non-null  int64  \n",
            " 6   sqft_lot       21613 non-null  int64  \n",
            " 7   floors         21613 non-null  float64\n",
            " 8   waterfront     21613 non-null  int64  \n",
            " 9   view           21613 non-null  int64  \n",
            " 10  condition      21613 non-null  int64  \n",
            " 11  grade          21613 non-null  int64  \n",
            " 12  sqft_above     21613 non-null  int64  \n",
            " 13  sqft_basement  21613 non-null  int64  \n",
            " 14  yr_built       21613 non-null  int64  \n",
            " 15  yr_renovated   21613 non-null  int64  \n",
            " 16  zipcode        21613 non-null  int64  \n",
            " 17  lat            21613 non-null  float64\n",
            " 18  long           21613 non-null  float64\n",
            " 19  sqft_living15  21613 non-null  int64  \n",
            " 20  sqft_lot15     21613 non-null  int64  \n",
            "dtypes: float64(5), int64(15), object(1)\n",
            "memory usage: 3.5+ MB\n"
          ],
          "name": "stdout"
        }
      ]
    },
    {
      "cell_type": "code",
      "metadata": {
        "colab": {
          "base_uri": "https://localhost:8080/",
          "height": 297
        },
        "id": "NMevRoeUi7Rw",
        "outputId": "a7f75e02-f252-4e40-cce1-be059c015d8a"
      },
      "source": [
        "y = data['price']\n",
        "x = data['sqft_living']\n",
        "\n",
        "plt.scatter(data['price'],data['sqft_living'])\n"
      ],
      "execution_count": 28,
      "outputs": [
        {
          "output_type": "execute_result",
          "data": {
            "text/plain": [
              "<matplotlib.collections.PathCollection at 0x7f72dd9c9250>"
            ]
          },
          "metadata": {
            "tags": []
          },
          "execution_count": 28
        },
        {
          "output_type": "display_data",
          "data": {
            "image/png": "[encoded data removed]",
            "text/plain": [
              "<Figure size 432x288 with 1 Axes>"
            ]
          },
          "metadata": {
            "tags": [],
            "needs_background": "light"
          }
        }
      ]
    },
    {
      "cell_type": "code",
      "metadata": {
        "colab": {
          "base_uri": "https://localhost:8080/",
          "height": 355
        },
        "id": "5KL-3GpYlUpb",
        "outputId": "93a0bb06-95ab-4e6c-becc-871214cbc10c"
      },
      "source": [
        "sns.boxplot(x)"
      ],
      "execution_count": 29,
      "outputs": [
        {
          "output_type": "stream",
          "text": [
            "/usr/local/lib/python3.7/dist-packages/seaborn/_decorators.py:43: FutureWarning: Pass the following variable as a keyword arg: x. From version 0.12, the only valid positional argument will be `data`, and passing other arguments without an explicit keyword will result in an error or misinterpretation.\n",
            "  FutureWarning\n"
          ],
          "name": "stderr"
        },
        {
          "output_type": "execute_result",
          "data": {
            "text/plain": [
              "<matplotlib.axes._subplots.AxesSubplot at 0x7f72dd98cd50>"
            ]
          },
          "metadata": {
            "tags": []
          },
          "execution_count": 29
        },
        {
          "output_type": "display_data",
          "data": {
            "image/png": "[encoded data removed]",
            "text/plain": [
              "<Figure size 432x288 with 1 Axes>"
            ]
          },
          "metadata": {
            "tags": [],
            "needs_background": "light"
          }
        }
      ]
    },
    {
      "cell_type": "code",
      "metadata": {
        "colab": {
          "base_uri": "https://localhost:8080/",
          "height": 354
        },
        "id": "KNXbeBtJlZ_5",
        "outputId": "e77561f7-e847-4073-ea0b-93526a73f9d5"
      },
      "source": [
        "sns.boxplot(y)"
      ],
      "execution_count": 30,
      "outputs": [
        {
          "output_type": "stream",
          "text": [
            "/usr/local/lib/python3.7/dist-packages/seaborn/_decorators.py:43: FutureWarning: Pass the following variable as a keyword arg: x. From version 0.12, the only valid positional argument will be `data`, and passing other arguments without an explicit keyword will result in an error or misinterpretation.\n",
            "  FutureWarning\n"
          ],
          "name": "stderr"
        },
        {
          "output_type": "execute_result",
          "data": {
            "text/plain": [
              "<matplotlib.axes._subplots.AxesSubplot at 0x7f72dd92b310>"
            ]
          },
          "metadata": {
            "tags": []
          },
          "execution_count": 30
        },
        {
          "output_type": "display_data",
          "data": {
            "image/png": "[encoded data removed]",
            "text/plain": [
              "<Figure size 432x288 with 1 Axes>"
            ]
          },
          "metadata": {
            "tags": [],
            "needs_background": "light"
          }
        }
      ]
    },
    {
      "cell_type": "code",
      "metadata": {
        "id": "hU0uznccmAkm"
      },
      "source": [
        "threshold = 3\n",
        "x = list(x)\n",
        "y = list(y)\n",
        "x_new = []\n",
        "y_new = []\n",
        "\n",
        "z = np.abs(stats.zscore(x))\n",
        "outliers = np.where(z > threshold)\n",
        "\n",
        "for i in range(len(x)):\n",
        "  if i not in outliers[0]:\n",
        "    x_new.append(x[i])\n",
        "    y_new.append(y[i])"
      ],
      "execution_count": 31,
      "outputs": []
    },
    {
      "cell_type": "code",
      "metadata": {
        "id": "8S7w9HiZIjbZ"
      },
      "source": [
        "x = x_new\n",
        "y = y_new\n",
        "\n",
        "x_new = []\n",
        "y_new = []\n",
        "\n",
        "z = np.abs(stats.zscore(y))\n",
        "outliers = np.where(z > threshold)\n",
        "for i in range(len(x)):\n",
        "  if i not in outliers[0]:\n",
        "    x_new.append(x[i])\n",
        "    y_new.append(y[i])"
      ],
      "execution_count": 32,
      "outputs": []
    },
    {
      "cell_type": "code",
      "metadata": {
        "colab": {
          "base_uri": "https://localhost:8080/"
        },
        "id": "avU4nEE0mAMH",
        "outputId": "a437a679-b9cd-4ff9-c380-f739f59ae93a"
      },
      "source": [
        "print(len(x_new))\n",
        "print(len(y_new))"
      ],
      "execution_count": 33,
      "outputs": [
        {
          "output_type": "stream",
          "text": [
            "20957\n",
            "20957\n"
          ],
          "name": "stdout"
        }
      ]
    },
    {
      "cell_type": "code",
      "metadata": {
        "id": "6oca1IELLWAL"
      },
      "source": [
        "x = x_new\n",
        "y = y_new"
      ],
      "execution_count": 35,
      "outputs": []
    },
    {
      "cell_type": "code",
      "metadata": {
        "colab": {
          "base_uri": "https://localhost:8080/",
          "height": 294
        },
        "id": "bm_cUw49M72W",
        "outputId": "d8e66321-a7ee-4440-ac70-412f3d5162d2"
      },
      "source": [
        "plt.scatter(x,y)"
      ],
      "execution_count": 42,
      "outputs": [
        {
          "output_type": "execute_result",
          "data": {
            "text/plain": [
              "<matplotlib.collections.PathCollection at 0x7f72dd9ab750>"
            ]
          },
          "metadata": {
            "tags": []
          },
          "execution_count": 42
        },
        {
          "output_type": "display_data",
          "data": {
            "image/png": "[encoded data removed]",
            "text/plain": [
              "<Figure size 432x288 with 1 Axes>"
            ]
          },
          "metadata": {
            "tags": [],
            "needs_background": "light"
          }
        }
      ]
    },
    {
      "cell_type": "code",
      "metadata": {
        "id": "CAYTqPu6NV7O"
      },
      "source": [
        "x = minmax_scale(x)\n",
        "y = minmax_scale(y)"
      ],
      "execution_count": 47,
      "outputs": []
    },
    {
      "cell_type": "code",
      "metadata": {
        "id": "6T7L-7N-i7Nq"
      },
      "source": [
        "cleaned_data = [(x[i],y[i]) for i in range(len(x))]"
      ],
      "execution_count": 48,
      "outputs": []
    },
    {
      "cell_type": "code",
      "metadata": {
        "id": "0ljd2u7ri7Je"
      },
      "source": [
        "cleaned_data_train, cleaned_data_test = train_test_split(cleaned_data,test_size=0.1)"
      ],
      "execution_count": 49,
      "outputs": []
    },
    {
      "cell_type": "code",
      "metadata": {
        "colab": {
          "base_uri": "https://localhost:8080/"
        },
        "id": "EfVVOtsBi7GE",
        "outputId": "bbdd7859-1643-433e-b9a7-6e958c2acfc7"
      },
      "source": [
        "print(len(cleaned_data_train))\n",
        "print(len(cleaned_data_test))"
      ],
      "execution_count": 50,
      "outputs": [
        {
          "output_type": "stream",
          "text": [
            "18861\n",
            "2096\n"
          ],
          "name": "stdout"
        }
      ]
    },
    {
      "cell_type": "code",
      "metadata": {
        "id": "fEHHsSTfi50d"
      },
      "source": [
        "epochs = 20\n",
        "learning_rate = 0.01\n",
        "batch_size = 500\n",
        "number_of_samples = len(cleaned_data_train)\n",
        "number_of_batches = number_of_samples//batch_size\n",
        "m = 1\n",
        "c = 1"
      ],
      "execution_count": 51,
      "outputs": []
    },
    {
      "cell_type": "code",
      "metadata": {
        "colab": {
          "base_uri": "https://localhost:8080/"
        },
        "id": "PVQKBexxkeYU",
        "outputId": "61ca8301-e1c2-4a55-b5f4-f1386ed83185"
      },
      "source": [
        "error_list = []\n",
        "for i in range(epochs):\n",
        "  for j in range(number_of_batches+1):\n",
        "    if j == number_of_batches:\n",
        "      d = cleaned_data_train[j*batch_size:]\n",
        "    else:\n",
        "      d = cleaned_data_train[j*batch_size:(j+1)*batch_size]\n",
        "    deltam = -1*learning_rate*gradm(d,m,c)\n",
        "    deltac = -1*learning_rate*gradc(d,m,c)\n",
        "    m = m + deltam\n",
        "    c = c + deltac\n",
        "    err = error(d,m,c)\n",
        "    print(\"epoch : {}, batch : {} >> error : {}\".format(i,j,err))\n",
        "    error_list.append(err)\n",
        "  random.shuffle(cleaned_data_train)"
      ],
      "execution_count": 52,
      "outputs": [
        {
          "output_type": "stream",
          "text": [
            "epoch : 0, batch : 0 >> error : 0.5658987170709998\n",
            "epoch : 0, batch : 1 >> error : 0.5688402905304786\n",
            "epoch : 0, batch : 2 >> error : 0.5371097527738754\n",
            "epoch : 0, batch : 3 >> error : 0.5363262045003006\n",
            "epoch : 0, batch : 4 >> error : 0.5143581753816182\n",
            "epoch : 0, batch : 5 >> error : 0.5086849320389923\n",
            "epoch : 0, batch : 6 >> error : 0.4901806444146067\n",
            "epoch : 0, batch : 7 >> error : 0.5038564354471645\n",
            "epoch : 0, batch : 8 >> error : 0.47671717496009297\n",
            "epoch : 0, batch : 9 >> error : 0.46969607302518995\n",
            "epoch : 0, batch : 10 >> error : 0.4601974811538624\n",
            "epoch : 0, batch : 11 >> error : 0.4395497549776715\n",
            "epoch : 0, batch : 12 >> error : 0.4366232412480953\n",
            "epoch : 0, batch : 13 >> error : 0.43516801952669054\n",
            "epoch : 0, batch : 14 >> error : 0.4244164334067405\n",
            "epoch : 0, batch : 15 >> error : 0.41433445001277597\n",
            "epoch : 0, batch : 16 >> error : 0.4039608085158815\n",
            "epoch : 0, batch : 17 >> error : 0.38804008917867744\n",
            "epoch : 0, batch : 18 >> error : 0.3840164667412532\n",
            "epoch : 0, batch : 19 >> error : 0.3799871565974039\n",
            "epoch : 0, batch : 20 >> error : 0.3628923508521705\n",
            "epoch : 0, batch : 21 >> error : 0.3539149871255175\n",
            "epoch : 0, batch : 22 >> error : 0.3443446312659381\n",
            "epoch : 0, batch : 23 >> error : 0.3422636826345101\n",
            "epoch : 0, batch : 24 >> error : 0.3335673010828908\n",
            "epoch : 0, batch : 25 >> error : 0.3282479941538762\n",
            "epoch : 0, batch : 26 >> error : 0.32280409872406185\n",
            "epoch : 0, batch : 27 >> error : 0.3114860069566268\n",
            "epoch : 0, batch : 28 >> error : 0.3072612289300017\n",
            "epoch : 0, batch : 29 >> error : 0.3047167071402715\n",
            "epoch : 0, batch : 30 >> error : 0.29247058075755333\n",
            "epoch : 0, batch : 31 >> error : 0.28179116102811175\n",
            "epoch : 0, batch : 32 >> error : 0.276174016939987\n",
            "epoch : 0, batch : 33 >> error : 0.26784400931296953\n",
            "epoch : 0, batch : 34 >> error : 0.2663018507014307\n",
            "epoch : 0, batch : 35 >> error : 0.2600036182884709\n",
            "epoch : 0, batch : 36 >> error : 0.26141623741349373\n",
            "epoch : 0, batch : 37 >> error : 0.2494005563061313\n",
            "epoch : 1, batch : 0 >> error : 0.25053013489744397\n",
            "epoch : 1, batch : 1 >> error : 0.24081920498832804\n",
            "epoch : 1, batch : 2 >> error : 0.2273212228656141\n",
            "epoch : 1, batch : 3 >> error : 0.23050192853395612\n",
            "epoch : 1, batch : 4 >> error : 0.22021137468952712\n",
            "epoch : 1, batch : 5 >> error : 0.2186578839026583\n",
            "epoch : 1, batch : 6 >> error : 0.2135054042056479\n",
            "epoch : 1, batch : 7 >> error : 0.2077993472363109\n",
            "epoch : 1, batch : 8 >> error : 0.20985867882772002\n",
            "epoch : 1, batch : 9 >> error : 0.20490997765749563\n",
            "epoch : 1, batch : 10 >> error : 0.1975719879443308\n",
            "epoch : 1, batch : 11 >> error : 0.1932007612269398\n",
            "epoch : 1, batch : 12 >> error : 0.1889719127291078\n",
            "epoch : 1, batch : 13 >> error : 0.18639521959214506\n",
            "epoch : 1, batch : 14 >> error : 0.17836206535439966\n",
            "epoch : 1, batch : 15 >> error : 0.174129787234511\n",
            "epoch : 1, batch : 16 >> error : 0.16540006103695803\n",
            "epoch : 1, batch : 17 >> error : 0.16613715487710798\n",
            "epoch : 1, batch : 18 >> error : 0.16746958746178991\n",
            "epoch : 1, batch : 19 >> error : 0.16017621826749237\n",
            "epoch : 1, batch : 20 >> error : 0.15763046128095654\n",
            "epoch : 1, batch : 21 >> error : 0.15192507916710668\n",
            "epoch : 1, batch : 22 >> error : 0.14862019907298551\n",
            "epoch : 1, batch : 23 >> error : 0.14512336347997887\n",
            "epoch : 1, batch : 24 >> error : 0.1478433291878112\n",
            "epoch : 1, batch : 25 >> error : 0.13951734106975444\n",
            "epoch : 1, batch : 26 >> error : 0.13781206251216807\n",
            "epoch : 1, batch : 27 >> error : 0.13602073276408702\n",
            "epoch : 1, batch : 28 >> error : 0.12952564693196164\n",
            "epoch : 1, batch : 29 >> error : 0.12713809119437772\n",
            "epoch : 1, batch : 30 >> error : 0.12639440941936714\n",
            "epoch : 1, batch : 31 >> error : 0.12050704495386012\n",
            "epoch : 1, batch : 32 >> error : 0.12362336550052608\n",
            "epoch : 1, batch : 33 >> error : 0.11754094428029267\n",
            "epoch : 1, batch : 34 >> error : 0.11910087386843654\n",
            "epoch : 1, batch : 35 >> error : 0.11061126894559191\n",
            "epoch : 1, batch : 36 >> error : 0.11152445456659288\n",
            "epoch : 1, batch : 37 >> error : 0.10647317412133588\n",
            "epoch : 2, batch : 0 >> error : 0.1072859358636243\n",
            "epoch : 2, batch : 1 >> error : 0.09959243436669554\n",
            "epoch : 2, batch : 2 >> error : 0.10353230233004022\n",
            "epoch : 2, batch : 3 >> error : 0.10145501425118168\n",
            "epoch : 2, batch : 4 >> error : 0.1001119803985823\n",
            "epoch : 2, batch : 5 >> error : 0.09375506076745661\n",
            "epoch : 2, batch : 6 >> error : 0.09144479323768695\n",
            "epoch : 2, batch : 7 >> error : 0.09204639987651929\n",
            "epoch : 2, batch : 8 >> error : 0.08409786143005023\n",
            "epoch : 2, batch : 9 >> error : 0.09188090550139477\n",
            "epoch : 2, batch : 10 >> error : 0.0835913533721712\n",
            "epoch : 2, batch : 11 >> error : 0.08333526482713287\n",
            "epoch : 2, batch : 12 >> error : 0.08425223673076275\n",
            "epoch : 2, batch : 13 >> error : 0.08210170604229775\n",
            "epoch : 2, batch : 14 >> error : 0.07681989079944376\n",
            "epoch : 2, batch : 15 >> error : 0.07978467398122463\n",
            "epoch : 2, batch : 16 >> error : 0.07935303285022668\n",
            "epoch : 2, batch : 17 >> error : 0.07372388993918788\n",
            "epoch : 2, batch : 18 >> error : 0.07372701939462885\n",
            "epoch : 2, batch : 19 >> error : 0.07349181970942634\n",
            "epoch : 2, batch : 20 >> error : 0.07152960249663455\n",
            "epoch : 2, batch : 21 >> error : 0.0712868690048272\n",
            "epoch : 2, batch : 22 >> error : 0.06941980400943042\n",
            "epoch : 2, batch : 23 >> error : 0.06609646128472395\n",
            "epoch : 2, batch : 24 >> error : 0.06739181106214906\n",
            "epoch : 2, batch : 25 >> error : 0.06584563319076636\n",
            "epoch : 2, batch : 26 >> error : 0.062342210299017854\n",
            "epoch : 2, batch : 27 >> error : 0.06341894638811597\n",
            "epoch : 2, batch : 28 >> error : 0.060550978846210586\n",
            "epoch : 2, batch : 29 >> error : 0.060207096850090513\n",
            "epoch : 2, batch : 30 >> error : 0.055927951210494264\n",
            "epoch : 2, batch : 31 >> error : 0.05913348510510639\n",
            "epoch : 2, batch : 32 >> error : 0.055425846777490566\n",
            "epoch : 2, batch : 33 >> error : 0.053828707447692\n",
            "epoch : 2, batch : 34 >> error : 0.052025187111507006\n",
            "epoch : 2, batch : 35 >> error : 0.049820820477771394\n",
            "epoch : 2, batch : 36 >> error : 0.052398675655916854\n",
            "epoch : 2, batch : 37 >> error : 0.052727611163242885\n",
            "epoch : 3, batch : 0 >> error : 0.05137575149533972\n",
            "epoch : 3, batch : 1 >> error : 0.048971803302394916\n",
            "epoch : 3, batch : 2 >> error : 0.04494890826633986\n",
            "epoch : 3, batch : 3 >> error : 0.04787299936393416\n",
            "epoch : 3, batch : 4 >> error : 0.045901050333025994\n",
            "epoch : 3, batch : 5 >> error : 0.043781624302177614\n",
            "epoch : 3, batch : 6 >> error : 0.047930023713866336\n",
            "epoch : 3, batch : 7 >> error : 0.04392620649037982\n",
            "epoch : 3, batch : 8 >> error : 0.04170497297220505\n",
            "epoch : 3, batch : 9 >> error : 0.04098179142923053\n",
            "epoch : 3, batch : 10 >> error : 0.04275088776474232\n",
            "epoch : 3, batch : 11 >> error : 0.037525672934652976\n",
            "epoch : 3, batch : 12 >> error : 0.03976746887189587\n",
            "epoch : 3, batch : 13 >> error : 0.03992970039345517\n",
            "epoch : 3, batch : 14 >> error : 0.03703988274917057\n",
            "epoch : 3, batch : 15 >> error : 0.038792792426125426\n",
            "epoch : 3, batch : 16 >> error : 0.037787302333580186\n",
            "epoch : 3, batch : 17 >> error : 0.03757230735367389\n",
            "epoch : 3, batch : 18 >> error : 0.03601704738251295\n",
            "epoch : 3, batch : 19 >> error : 0.033674978570165486\n",
            "epoch : 3, batch : 20 >> error : 0.03666731181934837\n",
            "epoch : 3, batch : 21 >> error : 0.034959889347373374\n",
            "epoch : 3, batch : 22 >> error : 0.03353615004009429\n",
            "epoch : 3, batch : 23 >> error : 0.03320284708802363\n",
            "epoch : 3, batch : 24 >> error : 0.03184305554204699\n",
            "epoch : 3, batch : 25 >> error : 0.030866425041874798\n",
            "epoch : 3, batch : 26 >> error : 0.03088510466237462\n",
            "epoch : 3, batch : 27 >> error : 0.03200737879931885\n",
            "epoch : 3, batch : 28 >> error : 0.030662163603181008\n",
            "epoch : 3, batch : 29 >> error : 0.02850257275803201\n",
            "epoch : 3, batch : 30 >> error : 0.028235333670383365\n",
            "epoch : 3, batch : 31 >> error : 0.02843106645809834\n",
            "epoch : 3, batch : 32 >> error : 0.027915780722214407\n",
            "epoch : 3, batch : 33 >> error : 0.026753544606614266\n",
            "epoch : 3, batch : 34 >> error : 0.027819685239155945\n",
            "epoch : 3, batch : 35 >> error : 0.027577382180216853\n",
            "epoch : 3, batch : 36 >> error : 0.025599979650984934\n",
            "epoch : 3, batch : 37 >> error : 0.027036845457777375\n",
            "epoch : 4, batch : 0 >> error : 0.027421241360558\n",
            "epoch : 4, batch : 1 >> error : 0.026249215005910258\n",
            "epoch : 4, batch : 2 >> error : 0.023397697009061576\n",
            "epoch : 4, batch : 3 >> error : 0.023896780834802886\n",
            "epoch : 4, batch : 4 >> error : 0.02505035415714227\n",
            "epoch : 4, batch : 5 >> error : 0.02161279457485477\n",
            "epoch : 4, batch : 6 >> error : 0.023534372310175192\n",
            "epoch : 4, batch : 7 >> error : 0.02366767804661972\n",
            "epoch : 4, batch : 8 >> error : 0.023673003423623957\n",
            "epoch : 4, batch : 9 >> error : 0.02424726397461432\n",
            "epoch : 4, batch : 10 >> error : 0.022136028799161156\n",
            "epoch : 4, batch : 11 >> error : 0.02120385124856781\n",
            "epoch : 4, batch : 12 >> error : 0.022147113450372076\n",
            "epoch : 4, batch : 13 >> error : 0.021162755209495336\n",
            "epoch : 4, batch : 14 >> error : 0.020798582407027245\n",
            "epoch : 4, batch : 15 >> error : 0.02238761447766022\n",
            "epoch : 4, batch : 16 >> error : 0.020283716135793314\n",
            "epoch : 4, batch : 17 >> error : 0.020303616339099998\n",
            "epoch : 4, batch : 18 >> error : 0.020197005448683004\n",
            "epoch : 4, batch : 19 >> error : 0.02021710161045388\n",
            "epoch : 4, batch : 20 >> error : 0.018196741723949424\n",
            "epoch : 4, batch : 21 >> error : 0.020710863461998505\n",
            "epoch : 4, batch : 22 >> error : 0.019056387645877162\n",
            "epoch : 4, batch : 23 >> error : 0.020039967546886306\n",
            "epoch : 4, batch : 24 >> error : 0.019814467016832715\n",
            "epoch : 4, batch : 25 >> error : 0.019243786267199345\n",
            "epoch : 4, batch : 26 >> error : 0.01740492123605806\n",
            "epoch : 4, batch : 27 >> error : 0.016167637226024958\n",
            "epoch : 4, batch : 28 >> error : 0.017237690571113125\n",
            "epoch : 4, batch : 29 >> error : 0.017849494104794063\n",
            "epoch : 4, batch : 30 >> error : 0.016763945248692163\n",
            "epoch : 4, batch : 31 >> error : 0.01648239510153917\n",
            "epoch : 4, batch : 32 >> error : 0.01746616108691248\n",
            "epoch : 4, batch : 33 >> error : 0.016825305393305134\n",
            "epoch : 4, batch : 34 >> error : 0.016291849496300623\n",
            "epoch : 4, batch : 35 >> error : 0.015720377760499313\n",
            "epoch : 4, batch : 36 >> error : 0.017326955384170502\n",
            "epoch : 4, batch : 37 >> error : 0.015275989516702422\n",
            "epoch : 5, batch : 0 >> error : 0.01532888297773647\n",
            "epoch : 5, batch : 1 >> error : 0.015575348738279962\n",
            "epoch : 5, batch : 2 >> error : 0.014592512014674198\n",
            "epoch : 5, batch : 3 >> error : 0.016326333450977646\n",
            "epoch : 5, batch : 4 >> error : 0.015096033834267424\n",
            "epoch : 5, batch : 5 >> error : 0.014616006787330325\n",
            "epoch : 5, batch : 6 >> error : 0.014836381764362682\n",
            "epoch : 5, batch : 7 >> error : 0.015345198509076995\n",
            "epoch : 5, batch : 8 >> error : 0.013947204829064757\n",
            "epoch : 5, batch : 9 >> error : 0.01484253228076402\n",
            "epoch : 5, batch : 10 >> error : 0.015436062932218605\n",
            "epoch : 5, batch : 11 >> error : 0.013794802395407618\n",
            "epoch : 5, batch : 12 >> error : 0.014404690334589422\n",
            "epoch : 5, batch : 13 >> error : 0.013427794811725808\n",
            "epoch : 5, batch : 14 >> error : 0.013263344237138534\n",
            "epoch : 5, batch : 15 >> error : 0.013706159503765098\n",
            "epoch : 5, batch : 16 >> error : 0.014802020359011249\n",
            "epoch : 5, batch : 17 >> error : 0.013968924129114225\n",
            "epoch : 5, batch : 18 >> error : 0.014401336424695071\n",
            "epoch : 5, batch : 19 >> error : 0.012965553953530235\n",
            "epoch : 5, batch : 20 >> error : 0.013162268565675893\n",
            "epoch : 5, batch : 21 >> error : 0.013725997717761668\n",
            "epoch : 5, batch : 22 >> error : 0.012762500655726159\n",
            "epoch : 5, batch : 23 >> error : 0.01311459363642248\n",
            "epoch : 5, batch : 24 >> error : 0.012406214216674523\n",
            "epoch : 5, batch : 25 >> error : 0.013334490356406282\n",
            "epoch : 5, batch : 26 >> error : 0.013217399268203343\n",
            "epoch : 5, batch : 27 >> error : 0.012903119006871976\n",
            "epoch : 5, batch : 28 >> error : 0.013504347814977667\n",
            "epoch : 5, batch : 29 >> error : 0.011732836635611778\n",
            "epoch : 5, batch : 30 >> error : 0.012800960336330046\n",
            "epoch : 5, batch : 31 >> error : 0.013088924724982501\n",
            "epoch : 5, batch : 32 >> error : 0.011701781912976602\n",
            "epoch : 5, batch : 33 >> error : 0.012682065832024475\n",
            "epoch : 5, batch : 34 >> error : 0.012386715460182893\n",
            "epoch : 5, batch : 35 >> error : 0.011797839670978034\n",
            "epoch : 5, batch : 36 >> error : 0.010941448056856182\n",
            "epoch : 5, batch : 37 >> error : 0.012252547446881016\n",
            "epoch : 6, batch : 0 >> error : 0.010544689922077275\n",
            "epoch : 6, batch : 1 >> error : 0.012317751331661525\n",
            "epoch : 6, batch : 2 >> error : 0.010068922152494856\n",
            "epoch : 6, batch : 3 >> error : 0.010821441775783657\n",
            "epoch : 6, batch : 4 >> error : 0.01194515216816463\n",
            "epoch : 6, batch : 5 >> error : 0.010697109111331727\n",
            "epoch : 6, batch : 6 >> error : 0.012210585533628398\n",
            "epoch : 6, batch : 7 >> error : 0.011384569672549758\n",
            "epoch : 6, batch : 8 >> error : 0.010815681584066102\n",
            "epoch : 6, batch : 9 >> error : 0.011591481104196761\n",
            "epoch : 6, batch : 10 >> error : 0.01110570915416791\n",
            "epoch : 6, batch : 11 >> error : 0.010236880258703358\n",
            "epoch : 6, batch : 12 >> error : 0.011322035830389314\n",
            "epoch : 6, batch : 13 >> error : 0.01081876820132295\n",
            "epoch : 6, batch : 14 >> error : 0.010997048590042042\n",
            "epoch : 6, batch : 15 >> error : 0.01146974758798959\n",
            "epoch : 6, batch : 16 >> error : 0.010291468424337685\n",
            "epoch : 6, batch : 17 >> error : 0.011810602458624997\n",
            "epoch : 6, batch : 18 >> error : 0.011767251086228695\n",
            "epoch : 6, batch : 19 >> error : 0.010950961643118545\n",
            "epoch : 6, batch : 20 >> error : 0.011615312195519222\n",
            "epoch : 6, batch : 21 >> error : 0.011845832921318295\n",
            "epoch : 6, batch : 22 >> error : 0.0103846223852515\n",
            "epoch : 6, batch : 23 >> error : 0.010124578852091606\n",
            "epoch : 6, batch : 24 >> error : 0.011389091404052532\n",
            "epoch : 6, batch : 25 >> error : 0.01124694898501011\n",
            "epoch : 6, batch : 26 >> error : 0.010893645033019032\n",
            "epoch : 6, batch : 27 >> error : 0.010247327687522992\n",
            "epoch : 6, batch : 28 >> error : 0.0105275756226631\n",
            "epoch : 6, batch : 29 >> error : 0.009896819601753001\n",
            "epoch : 6, batch : 30 >> error : 0.009210039928624484\n",
            "epoch : 6, batch : 31 >> error : 0.010627526483267783\n",
            "epoch : 6, batch : 32 >> error : 0.011486905249852169\n",
            "epoch : 6, batch : 33 >> error : 0.00993554368910624\n",
            "epoch : 6, batch : 34 >> error : 0.01033200455989645\n",
            "epoch : 6, batch : 35 >> error : 0.009852924040136574\n",
            "epoch : 6, batch : 36 >> error : 0.010280641683718788\n",
            "epoch : 6, batch : 37 >> error : 0.009171457751785005\n",
            "epoch : 7, batch : 0 >> error : 0.011585478571838758\n",
            "epoch : 7, batch : 1 >> error : 0.00980470579784518\n",
            "epoch : 7, batch : 2 >> error : 0.011424212869089794\n",
            "epoch : 7, batch : 3 >> error : 0.009916348778029905\n",
            "epoch : 7, batch : 4 >> error : 0.010675138030928484\n",
            "epoch : 7, batch : 5 >> error : 0.009591983249428707\n",
            "epoch : 7, batch : 6 >> error : 0.011163668809865862\n",
            "epoch : 7, batch : 7 >> error : 0.010859827962528787\n",
            "epoch : 7, batch : 8 >> error : 0.009897184223477334\n",
            "epoch : 7, batch : 9 >> error : 0.008848453809236882\n",
            "epoch : 7, batch : 10 >> error : 0.008847205940739027\n",
            "epoch : 7, batch : 11 >> error : 0.009477543670832539\n",
            "epoch : 7, batch : 12 >> error : 0.010580891417140557\n",
            "epoch : 7, batch : 13 >> error : 0.009710085316935414\n",
            "epoch : 7, batch : 14 >> error : 0.00949755322811583\n",
            "epoch : 7, batch : 15 >> error : 0.009314098090246092\n",
            "epoch : 7, batch : 16 >> error : 0.009122495894777352\n",
            "epoch : 7, batch : 17 >> error : 0.010054482518930855\n",
            "epoch : 7, batch : 18 >> error : 0.00977415752876249\n",
            "epoch : 7, batch : 19 >> error : 0.010622562798892097\n",
            "epoch : 7, batch : 20 >> error : 0.009063117227772892\n",
            "epoch : 7, batch : 21 >> error : 0.008965773387302442\n",
            "epoch : 7, batch : 22 >> error : 0.0096096140629598\n",
            "epoch : 7, batch : 23 >> error : 0.010318825835458283\n",
            "epoch : 7, batch : 24 >> error : 0.008505982396959719\n",
            "epoch : 7, batch : 25 >> error : 0.009621751022770547\n",
            "epoch : 7, batch : 26 >> error : 0.009257839454332789\n",
            "epoch : 7, batch : 27 >> error : 0.009688977442579036\n",
            "epoch : 7, batch : 28 >> error : 0.009286572406417547\n",
            "epoch : 7, batch : 29 >> error : 0.008288886430262645\n",
            "epoch : 7, batch : 30 >> error : 0.009853834977259666\n",
            "epoch : 7, batch : 31 >> error : 0.008738908778434851\n",
            "epoch : 7, batch : 32 >> error : 0.010566007405663064\n",
            "epoch : 7, batch : 33 >> error : 0.008877875271981991\n",
            "epoch : 7, batch : 34 >> error : 0.009832702871868937\n",
            "epoch : 7, batch : 35 >> error : 0.008908721859317898\n",
            "epoch : 7, batch : 36 >> error : 0.008668644125393223\n",
            "epoch : 7, batch : 37 >> error : 0.009868196692057381\n",
            "epoch : 8, batch : 0 >> error : 0.009415299111491967\n",
            "epoch : 8, batch : 1 >> error : 0.009249563898224662\n",
            "epoch : 8, batch : 2 >> error : 0.008841358811768563\n",
            "epoch : 8, batch : 3 >> error : 0.009334461265085055\n",
            "epoch : 8, batch : 4 >> error : 0.009091626455728427\n",
            "epoch : 8, batch : 5 >> error : 0.009929600589427472\n",
            "epoch : 8, batch : 6 >> error : 0.010055174976206926\n",
            "epoch : 8, batch : 7 >> error : 0.007521399317350735\n",
            "epoch : 8, batch : 8 >> error : 0.009479012046005287\n",
            "epoch : 8, batch : 9 >> error : 0.0073553978156907915\n",
            "epoch : 8, batch : 10 >> error : 0.009407747783888493\n",
            "epoch : 8, batch : 11 >> error : 0.009419951038576596\n",
            "epoch : 8, batch : 12 >> error : 0.010939884515570857\n",
            "epoch : 8, batch : 13 >> error : 0.009249796360407547\n",
            "epoch : 8, batch : 14 >> error : 0.009698969291941488\n",
            "epoch : 8, batch : 15 >> error : 0.007900980575230934\n",
            "epoch : 8, batch : 16 >> error : 0.0085823045327716\n",
            "epoch : 8, batch : 17 >> error : 0.00944316285643239\n",
            "epoch : 8, batch : 18 >> error : 0.008881316049948294\n",
            "epoch : 8, batch : 19 >> error : 0.009275930838177876\n",
            "epoch : 8, batch : 20 >> error : 0.009486723480478002\n",
            "epoch : 8, batch : 21 >> error : 0.009769296985753443\n",
            "epoch : 8, batch : 22 >> error : 0.009022800499198874\n",
            "epoch : 8, batch : 23 >> error : 0.009436628219523622\n",
            "epoch : 8, batch : 24 >> error : 0.008957484580245896\n",
            "epoch : 8, batch : 25 >> error : 0.008734964820396113\n",
            "epoch : 8, batch : 26 >> error : 0.009848614022358256\n",
            "epoch : 8, batch : 27 >> error : 0.009051408061818186\n",
            "epoch : 8, batch : 28 >> error : 0.009729607891047166\n",
            "epoch : 8, batch : 29 >> error : 0.009001849585842455\n",
            "epoch : 8, batch : 30 >> error : 0.009830149938479709\n",
            "epoch : 8, batch : 31 >> error : 0.009204785695447821\n",
            "epoch : 8, batch : 32 >> error : 0.008725932201654159\n",
            "epoch : 8, batch : 33 >> error : 0.009621280545244153\n",
            "epoch : 8, batch : 34 >> error : 0.009748773936491734\n",
            "epoch : 8, batch : 35 >> error : 0.009662568348275873\n",
            "epoch : 8, batch : 36 >> error : 0.008799320528432915\n",
            "epoch : 8, batch : 37 >> error : 0.008445249940032026\n",
            "epoch : 9, batch : 0 >> error : 0.008334879091721379\n",
            "epoch : 9, batch : 1 >> error : 0.009154920944607766\n",
            "epoch : 9, batch : 2 >> error : 0.010172865476673563\n",
            "epoch : 9, batch : 3 >> error : 0.00846301159059198\n",
            "epoch : 9, batch : 4 >> error : 0.0090385519669834\n",
            "epoch : 9, batch : 5 >> error : 0.009803078000620696\n",
            "epoch : 9, batch : 6 >> error : 0.008977945948172045\n",
            "epoch : 9, batch : 7 >> error : 0.009364590856936441\n",
            "epoch : 9, batch : 8 >> error : 0.008349883988409185\n",
            "epoch : 9, batch : 9 >> error : 0.009269146468858128\n",
            "epoch : 9, batch : 10 >> error : 0.009114037363247058\n",
            "epoch : 9, batch : 11 >> error : 0.007760977289127187\n",
            "epoch : 9, batch : 12 >> error : 0.008086291762213997\n",
            "epoch : 9, batch : 13 >> error : 0.009325098904225105\n",
            "epoch : 9, batch : 14 >> error : 0.010020851814458383\n",
            "epoch : 9, batch : 15 >> error : 0.008514749681660718\n",
            "epoch : 9, batch : 16 >> error : 0.007924688212236056\n",
            "epoch : 9, batch : 17 >> error : 0.007886953477235014\n",
            "epoch : 9, batch : 18 >> error : 0.008008208264715988\n",
            "epoch : 9, batch : 19 >> error : 0.009493359352417203\n",
            "epoch : 9, batch : 20 >> error : 0.009645629292192552\n",
            "epoch : 9, batch : 21 >> error : 0.008735442515187954\n",
            "epoch : 9, batch : 22 >> error : 0.0092238320532742\n",
            "epoch : 9, batch : 23 >> error : 0.009749658089804675\n",
            "epoch : 9, batch : 24 >> error : 0.009975573471484029\n",
            "epoch : 9, batch : 25 >> error : 0.008564820368326778\n",
            "epoch : 9, batch : 26 >> error : 0.009416572850958212\n",
            "epoch : 9, batch : 27 >> error : 0.009152490966654162\n",
            "epoch : 9, batch : 28 >> error : 0.010391764158621895\n",
            "epoch : 9, batch : 29 >> error : 0.008312027933067586\n",
            "epoch : 9, batch : 30 >> error : 0.00860827832833188\n",
            "epoch : 9, batch : 31 >> error : 0.010105807780332689\n",
            "epoch : 9, batch : 32 >> error : 0.010613102778979158\n",
            "epoch : 9, batch : 33 >> error : 0.008485173387305336\n",
            "epoch : 9, batch : 34 >> error : 0.009035425711745504\n",
            "epoch : 9, batch : 35 >> error : 0.008621946032471548\n",
            "epoch : 9, batch : 36 >> error : 0.008137865415134189\n",
            "epoch : 9, batch : 37 >> error : 0.008948445759560749\n",
            "epoch : 10, batch : 0 >> error : 0.009779619647442811\n",
            "epoch : 10, batch : 1 >> error : 0.008456816575415707\n",
            "epoch : 10, batch : 2 >> error : 0.008029638379711709\n",
            "epoch : 10, batch : 3 >> error : 0.009192672747539647\n",
            "epoch : 10, batch : 4 >> error : 0.008669473499091696\n",
            "epoch : 10, batch : 5 >> error : 0.009348947982061094\n",
            "epoch : 10, batch : 6 >> error : 0.008247581642964037\n",
            "epoch : 10, batch : 7 >> error : 0.010194947176074196\n",
            "epoch : 10, batch : 8 >> error : 0.009466760340028234\n",
            "epoch : 10, batch : 9 >> error : 0.00917025899290808\n",
            "epoch : 10, batch : 10 >> error : 0.009752606313035832\n",
            "epoch : 10, batch : 11 >> error : 0.008986621876993383\n",
            "epoch : 10, batch : 12 >> error : 0.008281714499969027\n",
            "epoch : 10, batch : 13 >> error : 0.008905452109669238\n",
            "epoch : 10, batch : 14 >> error : 0.007995059773067168\n",
            "epoch : 10, batch : 15 >> error : 0.00893409551480115\n",
            "epoch : 10, batch : 16 >> error : 0.009560995660947117\n",
            "epoch : 10, batch : 17 >> error : 0.00856781665858398\n",
            "epoch : 10, batch : 18 >> error : 0.008651567137983998\n",
            "epoch : 10, batch : 19 >> error : 0.008399230107744479\n",
            "epoch : 10, batch : 20 >> error : 0.010676109013439622\n",
            "epoch : 10, batch : 21 >> error : 0.00944567555503937\n",
            "epoch : 10, batch : 22 >> error : 0.00769872910800149\n",
            "epoch : 10, batch : 23 >> error : 0.009031244541392178\n",
            "epoch : 10, batch : 24 >> error : 0.009711474993014616\n",
            "epoch : 10, batch : 25 >> error : 0.008852959747295523\n",
            "epoch : 10, batch : 26 >> error : 0.008917125276168053\n",
            "epoch : 10, batch : 27 >> error : 0.008871890518877289\n",
            "epoch : 10, batch : 28 >> error : 0.00893035222177217\n",
            "epoch : 10, batch : 29 >> error : 0.0084313568300936\n",
            "epoch : 10, batch : 30 >> error : 0.007789505783677473\n",
            "epoch : 10, batch : 31 >> error : 0.007586812147607284\n",
            "epoch : 10, batch : 32 >> error : 0.010305522602479493\n",
            "epoch : 10, batch : 33 >> error : 0.008771238632342929\n",
            "epoch : 10, batch : 34 >> error : 0.009201770472277894\n",
            "epoch : 10, batch : 35 >> error : 0.00846376011670066\n",
            "epoch : 10, batch : 36 >> error : 0.010240880742450068\n",
            "epoch : 10, batch : 37 >> error : 0.00781996424673143\n",
            "epoch : 11, batch : 0 >> error : 0.009053378583846186\n",
            "epoch : 11, batch : 1 >> error : 0.008019257303879953\n",
            "epoch : 11, batch : 2 >> error : 0.00867916912383035\n",
            "epoch : 11, batch : 3 >> error : 0.009012804049691965\n",
            "epoch : 11, batch : 4 >> error : 0.008507489588406693\n",
            "epoch : 11, batch : 5 >> error : 0.009685792367049303\n",
            "epoch : 11, batch : 6 >> error : 0.008805692905650298\n",
            "epoch : 11, batch : 7 >> error : 0.00740597085831903\n",
            "epoch : 11, batch : 8 >> error : 0.009955746843505357\n",
            "epoch : 11, batch : 9 >> error : 0.008232975187189856\n",
            "epoch : 11, batch : 10 >> error : 0.008642377619487926\n",
            "epoch : 11, batch : 11 >> error : 0.008522371607986447\n",
            "epoch : 11, batch : 12 >> error : 0.009191299088488715\n",
            "epoch : 11, batch : 13 >> error : 0.00887807898331271\n",
            "epoch : 11, batch : 14 >> error : 0.009367076311572223\n",
            "epoch : 11, batch : 15 >> error : 0.009489371737573006\n",
            "epoch : 11, batch : 16 >> error : 0.008718328215578572\n",
            "epoch : 11, batch : 17 >> error : 0.00818376003211588\n",
            "epoch : 11, batch : 18 >> error : 0.009495434171671653\n",
            "epoch : 11, batch : 19 >> error : 0.008230058379181228\n",
            "epoch : 11, batch : 20 >> error : 0.008310255522846418\n",
            "epoch : 11, batch : 21 >> error : 0.009102952079555556\n",
            "epoch : 11, batch : 22 >> error : 0.008970594498199739\n",
            "epoch : 11, batch : 23 >> error : 0.009362254431781845\n",
            "epoch : 11, batch : 24 >> error : 0.007676557539795762\n",
            "epoch : 11, batch : 25 >> error : 0.008668828012201877\n",
            "epoch : 11, batch : 26 >> error : 0.007985133786599067\n",
            "epoch : 11, batch : 27 >> error : 0.008643381200267374\n",
            "epoch : 11, batch : 28 >> error : 0.009633806664327872\n",
            "epoch : 11, batch : 29 >> error : 0.009580915906034363\n",
            "epoch : 11, batch : 30 >> error : 0.008535150970457631\n",
            "epoch : 11, batch : 31 >> error : 0.009715544071083864\n",
            "epoch : 11, batch : 32 >> error : 0.009380417705848142\n",
            "epoch : 11, batch : 33 >> error : 0.010539541606952236\n",
            "epoch : 11, batch : 34 >> error : 0.008874641191735269\n",
            "epoch : 11, batch : 35 >> error : 0.009022586124567378\n",
            "epoch : 11, batch : 36 >> error : 0.009156029021941337\n",
            "epoch : 11, batch : 37 >> error : 0.00918342910852024\n",
            "epoch : 12, batch : 0 >> error : 0.010499439185449733\n",
            "epoch : 12, batch : 1 >> error : 0.00928023471036301\n",
            "epoch : 12, batch : 2 >> error : 0.00883899653187957\n",
            "epoch : 12, batch : 3 >> error : 0.00830815945661762\n",
            "epoch : 12, batch : 4 >> error : 0.00874705976219708\n",
            "epoch : 12, batch : 5 >> error : 0.008464488905701482\n",
            "epoch : 12, batch : 6 >> error : 0.009160628401500243\n",
            "epoch : 12, batch : 7 >> error : 0.007973106900773979\n",
            "epoch : 12, batch : 8 >> error : 0.008562735124660074\n",
            "epoch : 12, batch : 9 >> error : 0.008717127888754539\n",
            "epoch : 12, batch : 10 >> error : 0.008738984557404616\n",
            "epoch : 12, batch : 11 >> error : 0.008516224064324104\n",
            "epoch : 12, batch : 12 >> error : 0.009016533030334072\n",
            "epoch : 12, batch : 13 >> error : 0.00898876454546246\n",
            "epoch : 12, batch : 14 >> error : 0.008568646085592489\n",
            "epoch : 12, batch : 15 >> error : 0.009122005080252406\n",
            "epoch : 12, batch : 16 >> error : 0.009632165687410578\n",
            "epoch : 12, batch : 17 >> error : 0.009153807305860524\n",
            "epoch : 12, batch : 18 >> error : 0.00819721554686294\n",
            "epoch : 12, batch : 19 >> error : 0.0075151438615103944\n",
            "epoch : 12, batch : 20 >> error : 0.008285376180391374\n",
            "epoch : 12, batch : 21 >> error : 0.009146371446711384\n",
            "epoch : 12, batch : 22 >> error : 0.008906223417892902\n",
            "epoch : 12, batch : 23 >> error : 0.008382230014155891\n",
            "epoch : 12, batch : 24 >> error : 0.009754694493701805\n",
            "epoch : 12, batch : 25 >> error : 0.008453034534704721\n",
            "epoch : 12, batch : 26 >> error : 0.008241012480976442\n",
            "epoch : 12, batch : 27 >> error : 0.008329218769697786\n",
            "epoch : 12, batch : 28 >> error : 0.007183528494334766\n",
            "epoch : 12, batch : 29 >> error : 0.010518268755130653\n",
            "epoch : 12, batch : 30 >> error : 0.00992926524340304\n",
            "epoch : 12, batch : 31 >> error : 0.008982241147629483\n",
            "epoch : 12, batch : 32 >> error : 0.009649517228370295\n",
            "epoch : 12, batch : 33 >> error : 0.008829432632442132\n",
            "epoch : 12, batch : 34 >> error : 0.007560698908796362\n",
            "epoch : 12, batch : 35 >> error : 0.01043162834801943\n",
            "epoch : 12, batch : 36 >> error : 0.009717879348961674\n",
            "epoch : 12, batch : 37 >> error : 0.009701875073266747\n",
            "epoch : 13, batch : 0 >> error : 0.009046442224709983\n",
            "epoch : 13, batch : 1 >> error : 0.008834808706012017\n",
            "epoch : 13, batch : 2 >> error : 0.007948225289762136\n",
            "epoch : 13, batch : 3 >> error : 0.008920008759406172\n",
            "epoch : 13, batch : 4 >> error : 0.008203624756324798\n",
            "epoch : 13, batch : 5 >> error : 0.008295977619507035\n",
            "epoch : 13, batch : 6 >> error : 0.008909427683779466\n",
            "epoch : 13, batch : 7 >> error : 0.008507097080491716\n",
            "epoch : 13, batch : 8 >> error : 0.008154345629752412\n",
            "epoch : 13, batch : 9 >> error : 0.009666469018044181\n",
            "epoch : 13, batch : 10 >> error : 0.009933058897450019\n",
            "epoch : 13, batch : 11 >> error : 0.008456168722793195\n",
            "epoch : 13, batch : 12 >> error : 0.008591556962978595\n",
            "epoch : 13, batch : 13 >> error : 0.009345689792791042\n",
            "epoch : 13, batch : 14 >> error : 0.008118382257498979\n",
            "epoch : 13, batch : 15 >> error : 0.009103999744075525\n",
            "epoch : 13, batch : 16 >> error : 0.00906086448041442\n",
            "epoch : 13, batch : 17 >> error : 0.009475103978786079\n",
            "epoch : 13, batch : 18 >> error : 0.008049799460903803\n",
            "epoch : 13, batch : 19 >> error : 0.007672516077913412\n",
            "epoch : 13, batch : 20 >> error : 0.00958883039279883\n",
            "epoch : 13, batch : 21 >> error : 0.009489023410495647\n",
            "epoch : 13, batch : 22 >> error : 0.009536125496322117\n",
            "epoch : 13, batch : 23 >> error : 0.00979984058434912\n",
            "epoch : 13, batch : 24 >> error : 0.010747900747985678\n",
            "epoch : 13, batch : 25 >> error : 0.009131850300510039\n",
            "epoch : 13, batch : 26 >> error : 0.00911429204623555\n",
            "epoch : 13, batch : 27 >> error : 0.00940171719760091\n",
            "epoch : 13, batch : 28 >> error : 0.008490520966682652\n",
            "epoch : 13, batch : 29 >> error : 0.008946674625740492\n",
            "epoch : 13, batch : 30 >> error : 0.008355738733861803\n",
            "epoch : 13, batch : 31 >> error : 0.009462049619514856\n",
            "epoch : 13, batch : 32 >> error : 0.007505758178716459\n",
            "epoch : 13, batch : 33 >> error : 0.008567596583136173\n",
            "epoch : 13, batch : 34 >> error : 0.007858196980623232\n",
            "epoch : 13, batch : 35 >> error : 0.00940139135221597\n",
            "epoch : 13, batch : 36 >> error : 0.009528362466417292\n",
            "epoch : 13, batch : 37 >> error : 0.00811315326627153\n",
            "epoch : 14, batch : 0 >> error : 0.008070399000059214\n",
            "epoch : 14, batch : 1 >> error : 0.00869381189426962\n",
            "epoch : 14, batch : 2 >> error : 0.008572131762577687\n",
            "epoch : 14, batch : 3 >> error : 0.010109927866160072\n",
            "epoch : 14, batch : 4 >> error : 0.010411759767537764\n",
            "epoch : 14, batch : 5 >> error : 0.008202621890726115\n",
            "epoch : 14, batch : 6 >> error : 0.009580052215647963\n",
            "epoch : 14, batch : 7 >> error : 0.008005306961415937\n",
            "epoch : 14, batch : 8 >> error : 0.00873839920927368\n",
            "epoch : 14, batch : 9 >> error : 0.008503369079183608\n",
            "epoch : 14, batch : 10 >> error : 0.008447650578031799\n",
            "epoch : 14, batch : 11 >> error : 0.00919347557304479\n",
            "epoch : 14, batch : 12 >> error : 0.009188479279646635\n",
            "epoch : 14, batch : 13 >> error : 0.008464599278054354\n",
            "epoch : 14, batch : 14 >> error : 0.007878201283475657\n",
            "epoch : 14, batch : 15 >> error : 0.008753285383502264\n",
            "epoch : 14, batch : 16 >> error : 0.010312113026563145\n",
            "epoch : 14, batch : 17 >> error : 0.008446577950466069\n",
            "epoch : 14, batch : 18 >> error : 0.00824663175987624\n",
            "epoch : 14, batch : 19 >> error : 0.009873504948602143\n",
            "epoch : 14, batch : 20 >> error : 0.009624740390409633\n",
            "epoch : 14, batch : 21 >> error : 0.009988020418888082\n",
            "epoch : 14, batch : 22 >> error : 0.009068931008682323\n",
            "epoch : 14, batch : 23 >> error : 0.008624658769295033\n",
            "epoch : 14, batch : 24 >> error : 0.00866599897099626\n",
            "epoch : 14, batch : 25 >> error : 0.009374023694777156\n",
            "epoch : 14, batch : 26 >> error : 0.008928435271764531\n",
            "epoch : 14, batch : 27 >> error : 0.009545294142935827\n",
            "epoch : 14, batch : 28 >> error : 0.009115940346569663\n",
            "epoch : 14, batch : 29 >> error : 0.007816162926451585\n",
            "epoch : 14, batch : 30 >> error : 0.009085108856049722\n",
            "epoch : 14, batch : 31 >> error : 0.008689160305549285\n",
            "epoch : 14, batch : 32 >> error : 0.009354268685093727\n",
            "epoch : 14, batch : 33 >> error : 0.008025644891911987\n",
            "epoch : 14, batch : 34 >> error : 0.007605784264413758\n",
            "epoch : 14, batch : 35 >> error : 0.008661211088339149\n",
            "epoch : 14, batch : 36 >> error : 0.009104708007760694\n",
            "epoch : 14, batch : 37 >> error : 0.00832179780237757\n",
            "epoch : 15, batch : 0 >> error : 0.008820921204825567\n",
            "epoch : 15, batch : 1 >> error : 0.00834846480598181\n",
            "epoch : 15, batch : 2 >> error : 0.009504817347134913\n",
            "epoch : 15, batch : 3 >> error : 0.008790165532275001\n",
            "epoch : 15, batch : 4 >> error : 0.008446556391430306\n",
            "epoch : 15, batch : 5 >> error : 0.00792570808761225\n",
            "epoch : 15, batch : 6 >> error : 0.009116669921948104\n",
            "epoch : 15, batch : 7 >> error : 0.00835714251197364\n",
            "epoch : 15, batch : 8 >> error : 0.008017495487184596\n",
            "epoch : 15, batch : 9 >> error : 0.007979554124421856\n",
            "epoch : 15, batch : 10 >> error : 0.00873482146383429\n",
            "epoch : 15, batch : 11 >> error : 0.009097292957148145\n",
            "epoch : 15, batch : 12 >> error : 0.008694854921836838\n",
            "epoch : 15, batch : 13 >> error : 0.007544829065701841\n",
            "epoch : 15, batch : 14 >> error : 0.00890754881380365\n",
            "epoch : 15, batch : 15 >> error : 0.008654004137872748\n",
            "epoch : 15, batch : 16 >> error : 0.00889595251176313\n",
            "epoch : 15, batch : 17 >> error : 0.007908729245149949\n",
            "epoch : 15, batch : 18 >> error : 0.009970625537319165\n",
            "epoch : 15, batch : 19 >> error : 0.009121103758434864\n",
            "epoch : 15, batch : 20 >> error : 0.009351543011117599\n",
            "epoch : 15, batch : 21 >> error : 0.008477587035307137\n",
            "epoch : 15, batch : 22 >> error : 0.008598481721065518\n",
            "epoch : 15, batch : 23 >> error : 0.008340847125472433\n",
            "epoch : 15, batch : 24 >> error : 0.008845493854270841\n",
            "epoch : 15, batch : 25 >> error : 0.009268782490482436\n",
            "epoch : 15, batch : 26 >> error : 0.008481817009216791\n",
            "epoch : 15, batch : 27 >> error : 0.009546514940824253\n",
            "epoch : 15, batch : 28 >> error : 0.008705704885485709\n",
            "epoch : 15, batch : 29 >> error : 0.009380575574579369\n",
            "epoch : 15, batch : 30 >> error : 0.010315867377451106\n",
            "epoch : 15, batch : 31 >> error : 0.008606924641706218\n",
            "epoch : 15, batch : 32 >> error : 0.009170443534852895\n",
            "epoch : 15, batch : 33 >> error : 0.009385248795835159\n",
            "epoch : 15, batch : 34 >> error : 0.008847709656175574\n",
            "epoch : 15, batch : 35 >> error : 0.010370639017595992\n",
            "epoch : 15, batch : 36 >> error : 0.009767798023480342\n",
            "epoch : 15, batch : 37 >> error : 0.009189194045929858\n",
            "epoch : 16, batch : 0 >> error : 0.008869551892716085\n",
            "epoch : 16, batch : 1 >> error : 0.008918347407860834\n",
            "epoch : 16, batch : 2 >> error : 0.008034322734759623\n",
            "epoch : 16, batch : 3 >> error : 0.009661010863587524\n",
            "epoch : 16, batch : 4 >> error : 0.009248175363408318\n",
            "epoch : 16, batch : 5 >> error : 0.008285316017121323\n",
            "epoch : 16, batch : 6 >> error : 0.00866591818033268\n",
            "epoch : 16, batch : 7 >> error : 0.008764973753361202\n",
            "epoch : 16, batch : 8 >> error : 0.00883409884743935\n",
            "epoch : 16, batch : 9 >> error : 0.008810600863611566\n",
            "epoch : 16, batch : 10 >> error : 0.008261404186622858\n",
            "epoch : 16, batch : 11 >> error : 0.009614598965087588\n",
            "epoch : 16, batch : 12 >> error : 0.008418148419864326\n",
            "epoch : 16, batch : 13 >> error : 0.010419033792573936\n",
            "epoch : 16, batch : 14 >> error : 0.009195952106882526\n",
            "epoch : 16, batch : 15 >> error : 0.007984514937165158\n",
            "epoch : 16, batch : 16 >> error : 0.008650399675649643\n",
            "epoch : 16, batch : 17 >> error : 0.007963203734334203\n",
            "epoch : 16, batch : 18 >> error : 0.008539196546170438\n",
            "epoch : 16, batch : 19 >> error : 0.009229078383034002\n",
            "epoch : 16, batch : 20 >> error : 0.00854809207602767\n",
            "epoch : 16, batch : 21 >> error : 0.008760398975677243\n",
            "epoch : 16, batch : 22 >> error : 0.007917396380659199\n",
            "epoch : 16, batch : 23 >> error : 0.008705337619948031\n",
            "epoch : 16, batch : 24 >> error : 0.008140450277869686\n",
            "epoch : 16, batch : 25 >> error : 0.00902327993319121\n",
            "epoch : 16, batch : 26 >> error : 0.008627267045110144\n",
            "epoch : 16, batch : 27 >> error : 0.0077790935328370696\n",
            "epoch : 16, batch : 28 >> error : 0.010070198959559707\n",
            "epoch : 16, batch : 29 >> error : 0.009701735891856893\n",
            "epoch : 16, batch : 30 >> error : 0.00806411458952134\n",
            "epoch : 16, batch : 31 >> error : 0.01044527916006696\n",
            "epoch : 16, batch : 32 >> error : 0.008812071997172216\n",
            "epoch : 16, batch : 33 >> error : 0.008389804358593171\n",
            "epoch : 16, batch : 34 >> error : 0.009131811197800323\n",
            "epoch : 16, batch : 35 >> error : 0.009518894808090591\n",
            "epoch : 16, batch : 36 >> error : 0.009780224734411296\n",
            "epoch : 16, batch : 37 >> error : 0.009882394352296096\n",
            "epoch : 17, batch : 0 >> error : 0.007816039154170338\n",
            "epoch : 17, batch : 1 >> error : 0.00944895424359972\n",
            "epoch : 17, batch : 2 >> error : 0.009333772721054297\n",
            "epoch : 17, batch : 3 >> error : 0.008993840957799067\n",
            "epoch : 17, batch : 4 >> error : 0.00854083926101405\n",
            "epoch : 17, batch : 5 >> error : 0.008745827188098281\n",
            "epoch : 17, batch : 6 >> error : 0.009415478439552347\n",
            "epoch : 17, batch : 7 >> error : 0.008877892324381166\n",
            "epoch : 17, batch : 8 >> error : 0.008008391855074837\n",
            "epoch : 17, batch : 9 >> error : 0.008834074247063882\n",
            "epoch : 17, batch : 10 >> error : 0.009713533154147181\n",
            "epoch : 17, batch : 11 >> error : 0.008469862126506033\n",
            "epoch : 17, batch : 12 >> error : 0.009081482547343455\n",
            "epoch : 17, batch : 13 >> error : 0.009246785636804226\n",
            "epoch : 17, batch : 14 >> error : 0.009247254903998144\n",
            "epoch : 17, batch : 15 >> error : 0.008257698581325251\n",
            "epoch : 17, batch : 16 >> error : 0.009712538934079478\n",
            "epoch : 17, batch : 17 >> error : 0.009626318218524131\n",
            "epoch : 17, batch : 18 >> error : 0.007999056425211908\n",
            "epoch : 17, batch : 19 >> error : 0.009397549819395312\n",
            "epoch : 17, batch : 20 >> error : 0.00971804357483187\n",
            "epoch : 17, batch : 21 >> error : 0.00833567250165654\n",
            "epoch : 17, batch : 22 >> error : 0.009155651855374173\n",
            "epoch : 17, batch : 23 >> error : 0.009711639564293049\n",
            "epoch : 17, batch : 24 >> error : 0.007595775626522019\n",
            "epoch : 17, batch : 25 >> error : 0.008931144426898279\n",
            "epoch : 17, batch : 26 >> error : 0.008531669765547381\n",
            "epoch : 17, batch : 27 >> error : 0.008161883822055035\n",
            "epoch : 17, batch : 28 >> error : 0.008972984198125117\n",
            "epoch : 17, batch : 29 >> error : 0.008196371794545913\n",
            "epoch : 17, batch : 30 >> error : 0.008298775426904687\n",
            "epoch : 17, batch : 31 >> error : 0.0095100884403284\n",
            "epoch : 17, batch : 32 >> error : 0.008770740886189565\n",
            "epoch : 17, batch : 33 >> error : 0.009761439796253152\n",
            "epoch : 17, batch : 34 >> error : 0.008611169482501086\n",
            "epoch : 17, batch : 35 >> error : 0.009313868321214825\n",
            "epoch : 17, batch : 36 >> error : 0.008946124476088417\n",
            "epoch : 17, batch : 37 >> error : 0.0077848022719984675\n",
            "epoch : 18, batch : 0 >> error : 0.00820455090527978\n",
            "epoch : 18, batch : 1 >> error : 0.008239359066882656\n",
            "epoch : 18, batch : 2 >> error : 0.009379025873125934\n",
            "epoch : 18, batch : 3 >> error : 0.008085084898792965\n",
            "epoch : 18, batch : 4 >> error : 0.008659975260870966\n",
            "epoch : 18, batch : 5 >> error : 0.01057505802695984\n",
            "epoch : 18, batch : 6 >> error : 0.009183183507196655\n",
            "epoch : 18, batch : 7 >> error : 0.009828545212368759\n",
            "epoch : 18, batch : 8 >> error : 0.007917887608739179\n",
            "epoch : 18, batch : 9 >> error : 0.008738996018800717\n",
            "epoch : 18, batch : 10 >> error : 0.0087629488023586\n",
            "epoch : 18, batch : 11 >> error : 0.00794518179870576\n",
            "epoch : 18, batch : 12 >> error : 0.008227377203117121\n",
            "epoch : 18, batch : 13 >> error : 0.00986190595272664\n",
            "epoch : 18, batch : 14 >> error : 0.00903402088966142\n",
            "epoch : 18, batch : 15 >> error : 0.008915211401382957\n",
            "epoch : 18, batch : 16 >> error : 0.00989194007058118\n",
            "epoch : 18, batch : 17 >> error : 0.008492622793271528\n",
            "epoch : 18, batch : 18 >> error : 0.00845911847716995\n",
            "epoch : 18, batch : 19 >> error : 0.008573246010297537\n",
            "epoch : 18, batch : 20 >> error : 0.009099413405737578\n",
            "epoch : 18, batch : 21 >> error : 0.00872194561790463\n",
            "epoch : 18, batch : 22 >> error : 0.008358572110109309\n",
            "epoch : 18, batch : 23 >> error : 0.009587403572219572\n",
            "epoch : 18, batch : 24 >> error : 0.009702644889419972\n",
            "epoch : 18, batch : 25 >> error : 0.008211699767504627\n",
            "epoch : 18, batch : 26 >> error : 0.007752077625839508\n",
            "epoch : 18, batch : 27 >> error : 0.009399169252348103\n",
            "epoch : 18, batch : 28 >> error : 0.008319336963570094\n",
            "epoch : 18, batch : 29 >> error : 0.010792059015801905\n",
            "epoch : 18, batch : 30 >> error : 0.007548675608359586\n",
            "epoch : 18, batch : 31 >> error : 0.008744468597967023\n",
            "epoch : 18, batch : 32 >> error : 0.008800587717475949\n",
            "epoch : 18, batch : 33 >> error : 0.009141632979892324\n",
            "epoch : 18, batch : 34 >> error : 0.008711516131818163\n",
            "epoch : 18, batch : 35 >> error : 0.00960375071037507\n",
            "epoch : 18, batch : 36 >> error : 0.008885472824944934\n",
            "epoch : 18, batch : 37 >> error : 0.009077325963484826\n",
            "epoch : 19, batch : 0 >> error : 0.008332461230942584\n",
            "epoch : 19, batch : 1 >> error : 0.008249458916151324\n",
            "epoch : 19, batch : 2 >> error : 0.0074337727374404325\n",
            "epoch : 19, batch : 3 >> error : 0.008680869159903296\n",
            "epoch : 19, batch : 4 >> error : 0.007806761417928365\n",
            "epoch : 19, batch : 5 >> error : 0.009497181955909269\n",
            "epoch : 19, batch : 6 >> error : 0.007122903717017449\n",
            "epoch : 19, batch : 7 >> error : 0.010411714100076774\n",
            "epoch : 19, batch : 8 >> error : 0.00856901943709909\n",
            "epoch : 19, batch : 9 >> error : 0.008415232546347006\n",
            "epoch : 19, batch : 10 >> error : 0.010128458731901\n",
            "epoch : 19, batch : 11 >> error : 0.008885947741668048\n",
            "epoch : 19, batch : 12 >> error : 0.00884967724734055\n",
            "epoch : 19, batch : 13 >> error : 0.008031372981497288\n",
            "epoch : 19, batch : 14 >> error : 0.00920132961520842\n",
            "epoch : 19, batch : 15 >> error : 0.009029267501426816\n",
            "epoch : 19, batch : 16 >> error : 0.00799228053285275\n",
            "epoch : 19, batch : 17 >> error : 0.007571120361449616\n",
            "epoch : 19, batch : 18 >> error : 0.007906029024691816\n",
            "epoch : 19, batch : 19 >> error : 0.009419558349612318\n",
            "epoch : 19, batch : 20 >> error : 0.00917202726909901\n",
            "epoch : 19, batch : 21 >> error : 0.008828137694964404\n",
            "epoch : 19, batch : 22 >> error : 0.007983803378720247\n",
            "epoch : 19, batch : 23 >> error : 0.009619185965449882\n",
            "epoch : 19, batch : 24 >> error : 0.009762753329967202\n",
            "epoch : 19, batch : 25 >> error : 0.009644853207090326\n",
            "epoch : 19, batch : 26 >> error : 0.0093924545912448\n",
            "epoch : 19, batch : 27 >> error : 0.01036839106988964\n",
            "epoch : 19, batch : 28 >> error : 0.008560685308730016\n",
            "epoch : 19, batch : 29 >> error : 0.008454998796314688\n",
            "epoch : 19, batch : 30 >> error : 0.008931998796028516\n",
            "epoch : 19, batch : 31 >> error : 0.01021092658626247\n",
            "epoch : 19, batch : 32 >> error : 0.00908066949283033\n",
            "epoch : 19, batch : 33 >> error : 0.008804784775184923\n",
            "epoch : 19, batch : 34 >> error : 0.009925975288090612\n",
            "epoch : 19, batch : 35 >> error : 0.009282229676890569\n",
            "epoch : 19, batch : 36 >> error : 0.009308076286494221\n",
            "epoch : 19, batch : 37 >> error : 0.008365878261690498\n"
          ],
          "name": "stdout"
        }
      ]
    },
    {
      "cell_type": "code",
      "metadata": {
        "colab": {
          "base_uri": "https://localhost:8080/"
        },
        "id": "cVQ5Zb4CkeVq",
        "outputId": "07b999e1-5922-4f55-ca06-2a9d59660a1f"
      },
      "source": [
        "print(m,c)"
      ],
      "execution_count": 53,
      "outputs": [
        {
          "output_type": "stream",
          "text": [
            "0.6382643442381853 0.06334911772614327\n"
          ],
          "name": "stdout"
        }
      ]
    },
    {
      "cell_type": "code",
      "metadata": {
        "colab": {
          "base_uri": "https://localhost:8080/",
          "height": 313
        },
        "id": "PhcL6mofkeTJ",
        "outputId": "6da6f0d7-d75d-47c6-dcbe-b41537e2f969"
      },
      "source": [
        "x1 = range(epochs*(number_of_batches+1))\n",
        "y1 = error_list\n",
        "\n",
        "plt.plot(x1,y1)\n",
        "plt.xlabel(\"number of updations\")\n",
        "plt.ylabel(\"error\")\n",
        "plt.title(\"error graph in case of Mini Batch GD\")"
      ],
      "execution_count": 54,
      "outputs": [
        {
          "output_type": "execute_result",
          "data": {
            "text/plain": [
              "Text(0.5, 1.0, 'error graph in case of Mini Batch GD')"
            ]
          },
          "metadata": {
            "tags": []
          },
          "execution_count": 54
        },
        {
          "output_type": "display_data",
          "data": {
            "image/png": "[encoded data removed]",
            "text/plain": [
              "<Figure size 432x288 with 1 Axes>"
            ]
          },
          "metadata": {
            "tags": [],
            "needs_background": "light"
          }
        }
      ]
    },
    {
      "cell_type": "code",
      "metadata": {
        "colab": {
          "base_uri": "https://localhost:8080/",
          "height": 299
        },
        "id": "QyrJgDbMkeQb",
        "outputId": "b7b45810-c020-45b2-b4dd-0fb1e68c1064"
      },
      "source": [
        "x2 = [a[0] for a in cleaned_data_test]\n",
        "y2 = [m*i+c for i in x2]\n",
        "\n",
        "x1 = [a[0] for a in cleaned_data_test]\n",
        "y1 = [a[1] for a in cleaned_data_test]\n",
        "\n",
        "plt.plot(x2,y2)\n",
        "\n",
        "plt.scatter(x1,y1)\n",
        "\n",
        "plt.title(\"line which is generated after training\")"
      ],
      "execution_count": 58,
      "outputs": [
        {
          "output_type": "execute_result",
          "data": {
            "text/plain": [
              "Text(0.5, 1.0, 'line which is generated after training')"
            ]
          },
          "metadata": {
            "tags": []
          },
          "execution_count": 58
        },
        {
          "output_type": "display_data",
          "data": {
            "image/png": "[encoded data removed]",
            "text/plain": [
              "<Figure size 432x288 with 1 Axes>"
            ]
          },
          "metadata": {
            "tags": [],
            "needs_background": "light"
          }
        }
      ]
    },
    {
      "cell_type": "code",
      "metadata": {
        "colab": {
          "base_uri": "https://localhost:8080/"
        },
        "id": "vm22YbojkeMn",
        "outputId": "a495e5eb-cc02-4b76-dff4-7cadbd174fef"
      },
      "source": [
        "train_error = error(cleaned_data_train,m,c)\n",
        "test_error = error(cleaned_data_test,m,c)\n",
        "\n",
        "print(\"train error is : \",train_error)\n",
        "print(\"test error is : \",test_error)"
      ],
      "execution_count": 59,
      "outputs": [
        {
          "output_type": "stream",
          "text": [
            "train error is :  0.00887852100602741\n",
            "test error is :  0.008765940370275139\n"
          ],
          "name": "stdout"
        }
      ]
    },
    {
      "cell_type": "code",
      "metadata": {
        "colab": {
          "base_uri": "https://localhost:8080/"
        },
        "id": "b_oVP6Y_keJ0",
        "outputId": "34e5b36b-9a8f-4a4a-a1b8-3c8e65f14333"
      },
      "source": [
        "input_area = int(input(\"enter the input area : \"))\n",
        "\n",
        "max_price = 7.700000e+06\n",
        "min_price = 7.500000e+04\n",
        "\n",
        "max_area = 13540.000000\n",
        "min_area = 290.000000\n",
        "\n",
        "input_area = (input_area - min_area)/(max_area-min_area)\n",
        "output_price = input_area*m+c\n",
        "\n",
        "output_price = output_price*(max_price-min_price)+min_price\n",
        "\n",
        "print(\"predicted house price is : \",output_price)"
      ],
      "execution_count": 60,
      "outputs": [
        {
          "output_type": "stream",
          "text": [
            "enter the input area : 1245\n",
            "predicted house price is :  908811.45071463\n"
          ],
          "name": "stdout"
        }
      ]
    },
    {
      "cell_type": "code",
      "metadata": {
        "id": "VkStgPYykeDr"
      },
      "source": [
        ""
      ],
      "execution_count": null,
      "outputs": []
    }
  ]
}