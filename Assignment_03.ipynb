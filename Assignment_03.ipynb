{
  "nbformat": 4,
  "nbformat_minor": 0,
  "metadata": {
    "colab": {
      "name": "Assignment 03.ipynb",
      "provenance": [],
      "collapsed_sections": []
    },
    "kernelspec": {
      "name": "python3",
      "display_name": "Python 3"
    }
  },
  "cells": [
    {
      "cell_type": "markdown",
      "metadata": {
        "id": "0J8EXvbCZ1JL"
      },
      "source": [
        "#Manual Calculations"
      ]
    },
    {
      "cell_type": "code",
      "metadata": {
        "colab": {
          "base_uri": "https://localhost:8080/"
        },
        "id": "_cqn0sG6Z5Hk",
        "outputId": "464b3d9a-5fae-4dc0-f150-375da996a1a6"
      },
      "source": [
        "x = [0.2,0.4,0.6,0.8,1.0,1.2]\r\n",
        "y = [3.4,3.8,4.2,4.6,5.0,5.4]\r\n",
        "print(\"sample x values : \", x)\r\n",
        "print(\"sample y values : \", y)\r\n",
        "\r\n",
        "m = 1\r\n",
        "c = -1\r\n",
        "print(\"initial m value : \",m)\r\n",
        "print(\"initial c value : \",c)\r\n",
        "\r\n",
        "learning_rate = 0.01\r\n",
        "print(\"learning rate : \",learning_rate)\r\n",
        "\r\n",
        "print(\"\\nSample 1\")\r\n",
        "gradient_m_at_x0 = -1*(y[0] - m*x[0] - c)*x[0]\r\n",
        "print(\"gradient of m at x0 : \",gradient_m_at_x0)\r\n",
        "gradient_c_at_x0 = -1*(y[0] - m*x[0] - c)\r\n",
        "print(\"gradient of c at x0 : \",gradient_c_at_x0)\r\n",
        "deltam = -1*learning_rate*gradient_m_at_x0\r\n",
        "deltac = -1*learning_rate*gradient_c_at_x0\r\n",
        "print(\"delta m : \",deltam)\r\n",
        "print(\"delta c : \",deltac)\r\n",
        "m = m + deltam\r\n",
        "print(\"m : \",m)\r\n",
        "c = c + deltac\r\n",
        "print(\"c : \",c)\r\n",
        "\r\n",
        "print(\"\\nSample 2\")\r\n",
        "gradient_m_at_x1 = -1*(y[1] - m*x[1] - c)*x[1]\r\n",
        "print(\"gradient of m at x1 : \",gradient_m_at_x1)\r\n",
        "gradient_c_at_x1 = -1*(y[1] - m*x[1] - c)\r\n",
        "print(\"gradient of c at x1 : \",gradient_c_at_x1)\r\n",
        "deltam = -1*learning_rate*gradient_m_at_x1\r\n",
        "deltac = -1*learning_rate*gradient_c_at_x1\r\n",
        "print(\"delta m : \",deltam)\r\n",
        "print(\"delta c : \",deltac)\r\n",
        "m = m + deltam\r\n",
        "print(\"m : \",m)\r\n",
        "c = c + deltac\r\n",
        "print(\"c : \",c)"
      ],
      "execution_count": 1,
      "outputs": [
        {
          "output_type": "stream",
          "text": [
            "sample x values :  [0.2, 0.4, 0.6, 0.8, 1.0, 1.2]\n",
            "sample y values :  [3.4, 3.8, 4.2, 4.6, 5.0, 5.4]\n",
            "initial m value :  1\n",
            "initial c value :  -1\n",
            "learning rate :  0.01\n",
            "\n",
            "Sample 1\n",
            "gradient of m at x0 :  -0.8399999999999999\n",
            "gradient of c at x0 :  -4.199999999999999\n",
            "delta m :  0.0084\n",
            "delta c :  0.041999999999999996\n",
            "m :  1.0084\n",
            "c :  -0.958\n",
            "\n",
            "Sample 2\n",
            "gradient of m at x1 :  -1.741856\n",
            "gradient of c at x1 :  -4.35464\n",
            "delta m :  0.01741856\n",
            "delta c :  0.0435464\n",
            "m :  1.02581856\n",
            "c :  -0.9144536\n"
          ],
          "name": "stdout"
        }
      ]
    },
    {
      "cell_type": "markdown",
      "metadata": {
        "id": "f-dUYzaPZyNC"
      },
      "source": [
        "#Code"
      ]
    },
    {
      "cell_type": "code",
      "metadata": {
        "id": "zGAZtcropCjC"
      },
      "source": [
        "import matplotlib.pyplot as plt"
      ],
      "execution_count": null,
      "outputs": []
    },
    {
      "cell_type": "code",
      "metadata": {
        "colab": {
          "base_uri": "https://localhost:8080/"
        },
        "id": "wn-oOnoMo9xe",
        "outputId": "d3e8b386-be00-42b2-844c-21d3993943c3"
      },
      "source": [
        "x = [0.2,0.4,0.6,0.8,1.0,1.2]\r\n",
        "y = [3.4,3.8,4.2,4.6,5.0,5.4]\r\n",
        "\r\n",
        "m = 1\r\n",
        "c = -1\r\n",
        "\r\n",
        "learning_rate = 0.01\r\n",
        "epochs = 500\r\n",
        "number_of_samples = 6\r\n",
        "error_list = []\r\n",
        "\r\n",
        "def gradientm(y,x,m,c):\r\n",
        "    return -1*(y-m*x-c)*x\r\n",
        "\r\n",
        "def gradientc(y,x,m,c):\r\n",
        "    return -1*(y-m*x-c)\r\n",
        "\r\n",
        "for i in range(epochs):\r\n",
        "    for j in range(number_of_samples):\r\n",
        "        error = 0.5 * (y[j] - m*x[j] - c)**2\r\n",
        "        error_list.append(error)\r\n",
        "        \r\n",
        "        deltam = -1*learning_rate*gradientm(y[j],x[j],m,c)\r\n",
        "        deltac = -1*learning_rate*gradientc(y[j],x[j],m,c)\r\n",
        "        \r\n",
        "        m = m + deltam\r\n",
        "        c = c + deltac\r\n",
        "        \r\n",
        "print(\"optimal value of m and c using SGD: \",m , c)"
      ],
      "execution_count": null,
      "outputs": [
        {
          "output_type": "stream",
          "text": [
            "optimal value of m and c using SGD:  2.126626086336786 2.902794251715108\n"
          ],
          "name": "stdout"
        }
      ]
    },
    {
      "cell_type": "code",
      "metadata": {
        "colab": {
          "base_uri": "https://localhost:8080/",
          "height": 313
        },
        "id": "uUHXGOJjpH62",
        "outputId": "0e398a0f-f23c-4ea8-9718-a9993642d566"
      },
      "source": [
        "x1 = range(epochs*6)\r\n",
        "y1 = error_list\r\n",
        "\r\n",
        "plt.plot(x1,y1)\r\n",
        "plt.xlabel(\"number of iterations\")\r\n",
        "plt.ylabel(\"error\")\r\n",
        "plt.title(\"error graph in case of SGD\")"
      ],
      "execution_count": null,
      "outputs": [
        {
          "output_type": "execute_result",
          "data": {
            "text/plain": [
              "Text(0.5, 1.0, 'error graph in case of SGD')"
            ]
          },
          "metadata": {
            "tags": []
          },
          "execution_count": 35
        },
        {
          "output_type": "display_data",
          "data": {
            "image/png": "[encoded data removed]",
            "text/plain": [
              "<Figure size 432x288 with 1 Axes>"
            ]
          },
          "metadata": {
            "tags": [],
            "needs_background": "light"
          }
        }
      ]
    },
    {
      "cell_type": "code",
      "metadata": {
        "colab": {
          "base_uri": "https://localhost:8080/",
          "height": 299
        },
        "id": "CCY6ATPjp4kA",
        "outputId": "1192e6bc-ee11-4d64-d1f7-a56eb6c11f13"
      },
      "source": [
        "x2 = range(0,2)\r\n",
        "y2 = [m*i+c for i in x2]\r\n",
        "\r\n",
        "plt.plot(x2,y2)\r\n",
        "plt.scatter(x,y)\r\n",
        "plt.title(\"line which is generated after training\")\r\n"
      ],
      "execution_count": null,
      "outputs": [
        {
          "output_type": "execute_result",
          "data": {
            "text/plain": [
              "Text(0.5, 1.0, 'line which is generated after training')"
            ]
          },
          "metadata": {
            "tags": []
          },
          "execution_count": 36
        },
        {
          "output_type": "display_data",
          "data": {
            "image/png": "[encoded data removed]",
            "text/plain": [
              "<Figure size 432x288 with 1 Axes>"
            ]
          },
          "metadata": {
            "tags": [],
            "needs_background": "light"
          }
        }
      ]
    },
    {
      "cell_type": "code",
      "metadata": {
        "id": "yjSpF1dprPK4"
      },
      "source": [
        ""
      ],
      "execution_count": null,
      "outputs": []
    }
  ]
}