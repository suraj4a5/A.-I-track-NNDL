{
  "nbformat": 4,
  "nbformat_minor": 0,
  "metadata": {
    "colab": {
      "name": "Assignment 10.ipynb",
      "provenance": []
    },
    "kernelspec": {
      "name": "python3",
      "display_name": "Python 3"
    }
  },
  "cells": [
    {
      "cell_type": "code",
      "metadata": {
        "id": "aTowGm9tOHxn"
      },
      "source": [
        "import pandas as pd\n",
        "import numpy as np\n",
        "import math\n",
        "import random\n",
        "import matplotlib.pyplot as plt\n",
        "from random import shuffle\n",
        "from sklearn.preprocessing import minmax_scale\n",
        "from sklearn.model_selection import train_test_split"
      ],
      "execution_count": null,
      "outputs": []
    },
    {
      "cell_type": "code",
      "metadata": {
        "colab": {
          "base_uri": "https://localhost:8080/",
          "height": 206
        },
        "id": "EF7D2PX-oWCj",
        "outputId": "7052eb0e-ffa8-4c06-afad-36650676890c"
      },
      "source": [
        "load_data = pd.read_excel(\"/content/Load Data in kW.xlsx\")\n",
        "load_data.head()"
      ],
      "execution_count": null,
      "outputs": [
        {
          "output_type": "execute_result",
          "data": {
            "text/html": [
              "<div>\n",
              "<style scoped>\n",
              "    .dataframe tbody tr th:only-of-type {\n",
              "        vertical-align: middle;\n",
              "    }\n",
              "\n",
              "    .dataframe tbody tr th {\n",
              "        vertical-align: top;\n",
              "    }\n",
              "\n",
              "    .dataframe thead th {\n",
              "        text-align: right;\n",
              "    }\n",
              "</style>\n",
              "<table border=\"1\" class=\"dataframe\">\n",
              "  <thead>\n",
              "    <tr style=\"text-align: right;\">\n",
              "      <th></th>\n",
              "      <th>5551.82208</th>\n",
              "    </tr>\n",
              "  </thead>\n",
              "  <tbody>\n",
              "    <tr>\n",
              "      <th>0</th>\n",
              "      <td>4983.17184</td>\n",
              "    </tr>\n",
              "    <tr>\n",
              "      <th>1</th>\n",
              "      <td>4888.39680</td>\n",
              "    </tr>\n",
              "    <tr>\n",
              "      <th>2</th>\n",
              "      <td>5072.95872</td>\n",
              "    </tr>\n",
              "    <tr>\n",
              "      <th>3</th>\n",
              "      <td>5196.25980</td>\n",
              "    </tr>\n",
              "    <tr>\n",
              "      <th>4</th>\n",
              "      <td>5641.29720</td>\n",
              "    </tr>\n",
              "  </tbody>\n",
              "</table>\n",
              "</div>"
            ],
            "text/plain": [
              "   5551.82208\n",
              "0  4983.17184\n",
              "1  4888.39680\n",
              "2  5072.95872\n",
              "3  5196.25980\n",
              "4  5641.29720"
            ]
          },
          "metadata": {
            "tags": []
          },
          "execution_count": 167
        }
      ]
    },
    {
      "cell_type": "code",
      "metadata": {
        "colab": {
          "base_uri": "https://localhost:8080/",
          "height": 300
        },
        "id": "dga_n8-i-opf",
        "outputId": "e0c9207f-d777-4f5c-907c-a5fb9c88e4eb"
      },
      "source": [
        "load_data.describe()"
      ],
      "execution_count": null,
      "outputs": [
        {
          "output_type": "execute_result",
          "data": {
            "text/html": [
              "<div>\n",
              "<style scoped>\n",
              "    .dataframe tbody tr th:only-of-type {\n",
              "        vertical-align: middle;\n",
              "    }\n",
              "\n",
              "    .dataframe tbody tr th {\n",
              "        vertical-align: top;\n",
              "    }\n",
              "\n",
              "    .dataframe thead th {\n",
              "        text-align: right;\n",
              "    }\n",
              "</style>\n",
              "<table border=\"1\" class=\"dataframe\">\n",
              "  <thead>\n",
              "    <tr style=\"text-align: right;\">\n",
              "      <th></th>\n",
              "      <th>5551.82208</th>\n",
              "    </tr>\n",
              "  </thead>\n",
              "  <tbody>\n",
              "    <tr>\n",
              "      <th>count</th>\n",
              "      <td>2183.000000</td>\n",
              "    </tr>\n",
              "    <tr>\n",
              "      <th>mean</th>\n",
              "      <td>6393.616060</td>\n",
              "    </tr>\n",
              "    <tr>\n",
              "      <th>std</th>\n",
              "      <td>17143.020064</td>\n",
              "    </tr>\n",
              "    <tr>\n",
              "      <th>min</th>\n",
              "      <td>3377.919600</td>\n",
              "    </tr>\n",
              "    <tr>\n",
              "      <th>25%</th>\n",
              "      <td>5257.520640</td>\n",
              "    </tr>\n",
              "    <tr>\n",
              "      <th>50%</th>\n",
              "      <td>5935.910400</td>\n",
              "    </tr>\n",
              "    <tr>\n",
              "      <th>75%</th>\n",
              "      <td>6738.692400</td>\n",
              "    </tr>\n",
              "    <tr>\n",
              "      <th>max</th>\n",
              "      <td>805444.430400</td>\n",
              "    </tr>\n",
              "  </tbody>\n",
              "</table>\n",
              "</div>"
            ],
            "text/plain": [
              "          5551.82208\n",
              "count    2183.000000\n",
              "mean     6393.616060\n",
              "std     17143.020064\n",
              "min      3377.919600\n",
              "25%      5257.520640\n",
              "50%      5935.910400\n",
              "75%      6738.692400\n",
              "max    805444.430400"
            ]
          },
          "metadata": {
            "tags": []
          },
          "execution_count": 168
        }
      ]
    },
    {
      "cell_type": "code",
      "metadata": {
        "colab": {
          "base_uri": "https://localhost:8080/"
        },
        "id": "3_Rawo0dooFy",
        "outputId": "829593e4-c224-40e5-b242-d7b53ad86143"
      },
      "source": [
        "load_data.info()"
      ],
      "execution_count": null,
      "outputs": [
        {
          "output_type": "stream",
          "text": [
            "<class 'pandas.core.frame.DataFrame'>\n",
            "RangeIndex: 2183 entries, 0 to 2182\n",
            "Data columns (total 1 columns):\n",
            " #   Column      Non-Null Count  Dtype  \n",
            "---  ------      --------------  -----  \n",
            " 0   5551.82208  2183 non-null   float64\n",
            "dtypes: float64(1)\n",
            "memory usage: 17.2 KB\n"
          ],
          "name": "stdout"
        }
      ]
    },
    {
      "cell_type": "code",
      "metadata": {
        "colab": {
          "base_uri": "https://localhost:8080/",
          "height": 412
        },
        "id": "qMLmbY6UyZcH",
        "outputId": "2fadecbe-1a26-4b03-d723-f6b5313615cc"
      },
      "source": [
        "plt.boxplot(load_data.iloc[:,0])"
      ],
      "execution_count": null,
      "outputs": [
        {
          "output_type": "execute_result",
          "data": {
            "text/plain": [
              "{'boxes': [<matplotlib.lines.Line2D at 0x7f552914d210>],\n",
              " 'caps': [<matplotlib.lines.Line2D at 0x7f552911b410>,\n",
              "  <matplotlib.lines.Line2D at 0x7f5529197a10>],\n",
              " 'fliers': [<matplotlib.lines.Line2D at 0x7f55291b4390>],\n",
              " 'means': [],\n",
              " 'medians': [<matplotlib.lines.Line2D at 0x7f5529190990>],\n",
              " 'whiskers': [<matplotlib.lines.Line2D at 0x7f55292c0050>,\n",
              "  <matplotlib.lines.Line2D at 0x7f55290f1550>]}"
            ]
          },
          "metadata": {
            "tags": []
          },
          "execution_count": 170
        },
        {
          "output_type": "display_data",
          "data": {
            "image/png": "[encoded data removed]",
            "text/plain": [
              "<Figure size 432x288 with 1 Axes>"
            ]
          },
          "metadata": {
            "tags": [],
            "needs_background": "light"
          }
        }
      ]
    },
    {
      "cell_type": "code",
      "metadata": {
        "colab": {
          "base_uri": "https://localhost:8080/"
        },
        "id": "T_Pbszf3xG0k",
        "outputId": "60fae9ab-d845-4756-c20f-f83f28e7a2fa"
      },
      "source": [
        "from scipy import stats\n",
        "\n",
        "z = np.abs(stats.zscore(load_data.iloc[:,0]))\n",
        "\n",
        "threshold = 3\n",
        "print(np.where(z > 3))"
      ],
      "execution_count": null,
      "outputs": [
        {
          "output_type": "stream",
          "text": [
            "(array([928]),)\n"
          ],
          "name": "stdout"
        }
      ]
    },
    {
      "cell_type": "code",
      "metadata": {
        "id": "iLV2c9Wsx8qq"
      },
      "source": [
        "load_data.iloc[928,0] = load_data.iloc[927,0]"
      ],
      "execution_count": null,
      "outputs": []
    },
    {
      "cell_type": "code",
      "metadata": {
        "colab": {
          "base_uri": "https://localhost:8080/",
          "height": 412
        },
        "id": "YYwSlHekyQK5",
        "outputId": "fe5b45bd-caec-4cc8-8172-7bc00f8e178f"
      },
      "source": [
        "plt.boxplot(load_data.iloc[:,0])"
      ],
      "execution_count": null,
      "outputs": [
        {
          "output_type": "execute_result",
          "data": {
            "text/plain": [
              "{'boxes': [<matplotlib.lines.Line2D at 0x7f5526a4c490>],\n",
              " 'caps': [<matplotlib.lines.Line2D at 0x7f5526a514d0>,\n",
              "  <matplotlib.lines.Line2D at 0x7f5526a51a10>],\n",
              " 'fliers': [<matplotlib.lines.Line2D at 0x7f55269d9510>],\n",
              " 'means': [],\n",
              " 'medians': [<matplotlib.lines.Line2D at 0x7f5526a51f90>],\n",
              " 'whiskers': [<matplotlib.lines.Line2D at 0x7f5526a4ca10>,\n",
              "  <matplotlib.lines.Line2D at 0x7f5526a4cf50>]}"
            ]
          },
          "metadata": {
            "tags": []
          },
          "execution_count": 173
        },
        {
          "output_type": "display_data",
          "data": {
            "image/png": "[encoded data removed]",
            "text/plain": [
              "<Figure size 432x288 with 1 Axes>"
            ]
          },
          "metadata": {
            "tags": [],
            "needs_background": "light"
          }
        }
      ]
    },
    {
      "cell_type": "code",
      "metadata": {
        "id": "7mfA-DCJp5Gr"
      },
      "source": [
        "x = []\n",
        "y = []\n",
        "for i in range(len(load_data.iloc[:,0])-24):\n",
        "  x.append(load_data.iloc[i,0])\n",
        "  y.append(load_data.iloc[i+24,0])"
      ],
      "execution_count": null,
      "outputs": []
    },
    {
      "cell_type": "code",
      "metadata": {
        "colab": {
          "base_uri": "https://localhost:8080/",
          "height": 283
        },
        "id": "ea5SGq2CtrqV",
        "outputId": "f7ffe65b-5e47-43f6-dfcf-72677691a8bf"
      },
      "source": [
        "plt.scatter(x,y)"
      ],
      "execution_count": null,
      "outputs": [
        {
          "output_type": "execute_result",
          "data": {
            "text/plain": [
              "<matplotlib.collections.PathCollection at 0x7f5526a0a090>"
            ]
          },
          "metadata": {
            "tags": []
          },
          "execution_count": 175
        },
        {
          "output_type": "display_data",
          "data": {
            "image/png": "[encoded data removed]",
            "text/plain": [
              "<Figure size 432x288 with 1 Axes>"
            ]
          },
          "metadata": {
            "tags": [],
            "needs_background": "light"
          }
        }
      ]
    },
    {
      "cell_type": "code",
      "metadata": {
        "id": "pR7LrNwasX_B"
      },
      "source": [
        "def error(d,m,c):\n",
        "  sum = 0\n",
        "  for i in range(len(d)):\n",
        "    sum = sum + math.pow(d[i][1]-m*d[i][0]-c,2)\n",
        "  return 0.5*sum/len(d)\n",
        "\n",
        "def gradm(d,m,c):\n",
        "  sum = 0\n",
        "  for i in range(len(d)):\n",
        "    sum = sum + (d[i][1]-m*d[i][0]-c)*d[i][0]\n",
        "  return -1*sum/len(d)\n",
        "\n",
        "def gradc(d,m,c):\n",
        "  sum = 0\n",
        "  for i in range(len(d)):\n",
        "    sum = sum + (d[i][1]-m*d[i][0]-c)\n",
        "  return -1*sum/len(d)"
      ],
      "execution_count": null,
      "outputs": []
    },
    {
      "cell_type": "code",
      "metadata": {
        "id": "nTVdJp1gzyUF"
      },
      "source": [
        "learning_rate = 0.01\n",
        "epochs = 20\n",
        "\n",
        "m = 1\n",
        "c = 1\n",
        "\n",
        "v_m = 0\n",
        "v_c = 0\n",
        "momentum_coeff = 0.9\n",
        "\n",
        "batch_size = 500"
      ],
      "execution_count": null,
      "outputs": []
    },
    {
      "cell_type": "code",
      "metadata": {
        "id": "-NM67t5N3zx1"
      },
      "source": [
        "x = minmax_scale(x)\n",
        "y = minmax_scale(y)"
      ],
      "execution_count": null,
      "outputs": []
    },
    {
      "cell_type": "code",
      "metadata": {
        "colab": {
          "base_uri": "https://localhost:8080/"
        },
        "id": "AxxnYjFS0G1H",
        "outputId": "10414481-895e-461c-cfe3-695b97ccea7a"
      },
      "source": [
        "data = []\n",
        "\n",
        "for i in range(number_of_samples):\n",
        "  data.append((x[i],y[i]))\n",
        "\n",
        "print(len(data))\n",
        "\n",
        "data_train,data_test = train_test_split(data,test_size=0.1)\n",
        "\n",
        "len(data_train)"
      ],
      "execution_count": null,
      "outputs": [
        {
          "output_type": "stream",
          "text": [
            "2159\n"
          ],
          "name": "stdout"
        },
        {
          "output_type": "execute_result",
          "data": {
            "text/plain": [
              "1943"
            ]
          },
          "metadata": {
            "tags": []
          },
          "execution_count": 193
        }
      ]
    },
    {
      "cell_type": "code",
      "metadata": {
        "colab": {
          "base_uri": "https://localhost:8080/"
        },
        "id": "37ibCxL20Qo6",
        "outputId": "82987169-57a8-41b0-e528-3bebb459f214"
      },
      "source": [
        "error_list = []\n",
        "number_of_batches = (len(data_train)//batch_size)\n",
        "for i in range(epochs):\n",
        "  for j in range(number_of_batches+1):\n",
        "    if j == number_of_batches:\n",
        "      d = data_train[j*batch_size:]\n",
        "    else:\n",
        "      d = data_train[j*batch_size:(j+1)*batch_size]\n",
        "\n",
        "    deltam = -1*learning_rate*gradm(d,m,c)\n",
        "    deltac = -1*learning_rate*gradc(d,m,c)\n",
        "\n",
        "    v_m = v_m*momentum_coeff + deltam\n",
        "    v_c = v_c*momentum_coeff + deltac\n",
        "\n",
        "    m = m + v_m\n",
        "    c = c + v_c\n",
        "\n",
        "    print(\"epoch {}, batch {}, error {}\".format(i,j,error(d,m,c)))\n",
        "    error_list.append(error(d,m,c))\n",
        "  random.shuffle(data_train)"
      ],
      "execution_count": null,
      "outputs": [
        {
          "output_type": "stream",
          "text": [
            "epoch 0, batch 0, error 0.5063357117206916\n",
            "epoch 0, batch 1, error 0.4692380364500308\n",
            "epoch 0, batch 2, error 0.4486093988476754\n",
            "epoch 0, batch 3, error 0.40589754974890885\n",
            "epoch 1, batch 0, error 0.3642126240889018\n",
            "epoch 1, batch 1, error 0.31859639546373897\n",
            "epoch 1, batch 2, error 0.28400840733280386\n",
            "epoch 1, batch 3, error 0.22937356087641422\n",
            "epoch 2, batch 0, error 0.1917214903248081\n",
            "epoch 2, batch 1, error 0.15497200001041575\n",
            "epoch 2, batch 2, error 0.12328328584417053\n",
            "epoch 2, batch 3, error 0.0929976286068516\n",
            "epoch 3, batch 0, error 0.07360974759984966\n",
            "epoch 3, batch 1, error 0.047751127027712545\n",
            "epoch 3, batch 2, error 0.03438167821144289\n",
            "epoch 3, batch 3, error 0.023239105342550324\n",
            "epoch 4, batch 0, error 0.01503637844850524\n",
            "epoch 4, batch 1, error 0.011218794031625933\n",
            "epoch 4, batch 2, error 0.010660723680605805\n",
            "epoch 4, batch 3, error 0.009289517376136565\n",
            "epoch 5, batch 0, error 0.011038362798843722\n",
            "epoch 5, batch 1, error 0.011005272201118212\n",
            "epoch 5, batch 2, error 0.014418543448292593\n",
            "epoch 5, batch 3, error 0.01924934176839263\n",
            "epoch 6, batch 0, error 0.020162299066053043\n",
            "epoch 6, batch 1, error 0.023478564423855524\n",
            "epoch 6, batch 2, error 0.02535913068317602\n",
            "epoch 6, batch 3, error 0.0269393291681675\n",
            "epoch 7, batch 0, error 0.027300324841530096\n",
            "epoch 7, batch 1, error 0.028208777811266725\n",
            "epoch 7, batch 2, error 0.02889205216881672\n",
            "epoch 7, batch 3, error 0.027950390462480722\n",
            "epoch 8, batch 0, error 0.027570352599230765\n",
            "epoch 8, batch 1, error 0.02643434446863504\n",
            "epoch 8, batch 2, error 0.022714890129621353\n",
            "epoch 8, batch 3, error 0.022290023000562917\n",
            "epoch 9, batch 0, error 0.0192509419608382\n",
            "epoch 9, batch 1, error 0.020468044797995882\n",
            "epoch 9, batch 2, error 0.017018993898537848\n",
            "epoch 9, batch 3, error 0.016245860503941265\n",
            "epoch 10, batch 0, error 0.015024611072688387\n",
            "epoch 10, batch 1, error 0.013731970846718254\n",
            "epoch 10, batch 2, error 0.01083022517675389\n",
            "epoch 10, batch 3, error 0.011018898518343865\n",
            "epoch 11, batch 0, error 0.010328364165190215\n",
            "epoch 11, batch 1, error 0.00890298465986868\n",
            "epoch 11, batch 2, error 0.010759548794057976\n",
            "epoch 11, batch 3, error 0.00908194484843489\n",
            "epoch 12, batch 0, error 0.008825174883291641\n",
            "epoch 12, batch 1, error 0.00893555155905126\n",
            "epoch 12, batch 2, error 0.008239608275921127\n",
            "epoch 12, batch 3, error 0.009818594474421622\n",
            "epoch 13, batch 0, error 0.00745872951300303\n",
            "epoch 13, batch 1, error 0.010031625765235586\n",
            "epoch 13, batch 2, error 0.0086173944885248\n",
            "epoch 13, batch 3, error 0.011020347997567792\n",
            "epoch 14, batch 0, error 0.010228744717260653\n",
            "epoch 14, batch 1, error 0.008604243927328897\n",
            "epoch 14, batch 2, error 0.009675778216503204\n",
            "epoch 14, batch 3, error 0.00965737517652377\n",
            "epoch 15, batch 0, error 0.009474180352094387\n",
            "epoch 15, batch 1, error 0.008404225165959208\n",
            "epoch 15, batch 2, error 0.01002632585442281\n",
            "epoch 15, batch 3, error 0.010631948184134384\n",
            "epoch 16, batch 0, error 0.01081152975752997\n",
            "epoch 16, batch 1, error 0.009069713851054734\n",
            "epoch 16, batch 2, error 0.009728535320941985\n",
            "epoch 16, batch 3, error 0.007914810731006975\n",
            "epoch 17, batch 0, error 0.008733047187340432\n",
            "epoch 17, batch 1, error 0.009485621110200135\n",
            "epoch 17, batch 2, error 0.009177063340213874\n",
            "epoch 17, batch 3, error 0.009210594085618109\n",
            "epoch 18, batch 0, error 0.00980623475568372\n",
            "epoch 18, batch 1, error 0.008802988629853155\n",
            "epoch 18, batch 2, error 0.008838542947467614\n",
            "epoch 18, batch 3, error 0.008328987447783993\n",
            "epoch 19, batch 0, error 0.009099322522364015\n",
            "epoch 19, batch 1, error 0.008757651811799466\n",
            "epoch 19, batch 2, error 0.009286123968867688\n",
            "epoch 19, batch 3, error 0.008268109660979005\n"
          ],
          "name": "stdout"
        }
      ]
    },
    {
      "cell_type": "code",
      "metadata": {
        "colab": {
          "base_uri": "https://localhost:8080/",
          "height": 299
        },
        "id": "rMuEyDit_3uV",
        "outputId": "cad44efb-bd19-4a08-acd2-ffaebd36a551"
      },
      "source": [
        "x1 = range(len(error_list))\n",
        "y1 = error_list\n",
        "\n",
        "plt.plot(x1,y1)\n",
        "plt.title(\"error graph\")"
      ],
      "execution_count": null,
      "outputs": [
        {
          "output_type": "execute_result",
          "data": {
            "text/plain": [
              "Text(0.5, 1.0, 'error graph')"
            ]
          },
          "metadata": {
            "tags": []
          },
          "execution_count": 212
        },
        {
          "output_type": "display_data",
          "data": {
            "image/png": "[encoded data removed]",
            "text/plain": [
              "<Figure size 432x288 with 1 Axes>"
            ]
          },
          "metadata": {
            "tags": [],
            "needs_background": "light"
          }
        }
      ]
    },
    {
      "cell_type": "code",
      "metadata": {
        "colab": {
          "base_uri": "https://localhost:8080/"
        },
        "id": "EU5dh0ls54P9",
        "outputId": "5e921f0e-bcfd-40c8-a402-fcbe790cfb50"
      },
      "source": [
        "print(\"train error :\",error(data_train,m,c))\n",
        "print(\"test error :\",error(data_test,m,c))"
      ],
      "execution_count": null,
      "outputs": [
        {
          "output_type": "stream",
          "text": [
            "train error : 0.008853171620187481\n",
            "test error : 0.00883075758527381\n"
          ],
          "name": "stdout"
        }
      ]
    },
    {
      "cell_type": "code",
      "metadata": {
        "colab": {
          "base_uri": "https://localhost:8080/"
        },
        "id": "i5f3T-lz0c7I",
        "outputId": "338cd919-e489-4bd6-9021-5aeab037cdb2"
      },
      "source": [
        "print(m,c)"
      ],
      "execution_count": null,
      "outputs": [
        {
          "output_type": "stream",
          "text": [
            "0.6253818777032465 0.18307041731417012\n"
          ],
          "name": "stdout"
        }
      ]
    },
    {
      "cell_type": "code",
      "metadata": {
        "colab": {
          "base_uri": "https://localhost:8080/",
          "height": 283
        },
        "id": "KYdLnWxQ1bTu",
        "outputId": "6abe6b7b-7aaf-4da4-f364-8bf4829685d1"
      },
      "source": [
        "plt.scatter(x,y)"
      ],
      "execution_count": null,
      "outputs": [
        {
          "output_type": "execute_result",
          "data": {
            "text/plain": [
              "<matplotlib.collections.PathCollection at 0x7f55264a1f90>"
            ]
          },
          "metadata": {
            "tags": []
          },
          "execution_count": 208
        },
        {
          "output_type": "display_data",
          "data": {
            "image/png": "[encoded data removed]",
            "text/plain": [
              "<Figure size 432x288 with 1 Axes>"
            ]
          },
          "metadata": {
            "tags": [],
            "needs_background": "light"
          }
        }
      ]
    },
    {
      "cell_type": "code",
      "metadata": {
        "colab": {
          "base_uri": "https://localhost:8080/",
          "height": 299
        },
        "id": "YUNq3J-w60JM",
        "outputId": "6e9e4f17-811a-4a13-bb3e-cd2c849f7e10"
      },
      "source": [
        "x1 = x\n",
        "y1 = [i*m+c for i in x1]\n",
        "plt.plot(x1,y1)\n",
        "plt.title(\"predicted line\")"
      ],
      "execution_count": null,
      "outputs": [
        {
          "output_type": "execute_result",
          "data": {
            "text/plain": [
              "Text(0.5, 1.0, 'predicted line')"
            ]
          },
          "metadata": {
            "tags": []
          },
          "execution_count": 213
        },
        {
          "output_type": "display_data",
          "data": {
            "image/png": "[encoded data removed]",
            "text/plain": [
              "<Figure size 432x288 with 1 Axes>"
            ]
          },
          "metadata": {
            "tags": [],
            "needs_background": "light"
          }
        }
      ]
    },
    {
      "cell_type": "code",
      "metadata": {
        "colab": {
          "base_uri": "https://localhost:8080/",
          "height": 283
        },
        "id": "EPa5r3Za9g8b",
        "outputId": "4b977504-22b8-41ff-a0cf-b8dfcbb3c6d8"
      },
      "source": [
        "plt.scatter(x,y)\n",
        "x1 = x\n",
        "y1 = [i*m+c for i in x1]\n",
        "plt.plot(x1,y1)"
      ],
      "execution_count": null,
      "outputs": [
        {
          "output_type": "execute_result",
          "data": {
            "text/plain": [
              "[<matplotlib.lines.Line2D at 0x7f55268ec710>]"
            ]
          },
          "metadata": {
            "tags": []
          },
          "execution_count": 210
        },
        {
          "output_type": "display_data",
          "data": {
            "image/png": "[encoded data removed]",
            "text/plain": [
              "<Figure size 432x288 with 1 Axes>"
            ]
          },
          "metadata": {
            "tags": [],
            "needs_background": "light"
          }
        }
      ]
    },
    {
      "cell_type": "code",
      "metadata": {
        "colab": {
          "base_uri": "https://localhost:8080/"
        },
        "id": "HcXoWOi_9rar",
        "outputId": "c468598a-5c20-4309-a076-c3d8952a7a93"
      },
      "source": [
        "input_load = float(input(\"enter yesterday load at this time : \"))\n",
        "\n",
        "max_value = 8841.669480\n",
        "min_value = 3377.919600\n",
        "\n",
        "input_load = (input_load - min_value)/(max_value-min_value)\n",
        "output_load = input_load*m+c\n",
        "\n",
        "output_load = output_load*(max_value-min_value)+min_value\n",
        "\n",
        "print(\"predicted load for this hour is : \",output_load)"
      ],
      "execution_count": null,
      "outputs": [
        {
          "output_type": "stream",
          "text": [
            "enter yesterday load at this time : 4485\n",
            "predicted load for this hour is :  5070.5185899523085\n"
          ],
          "name": "stdout"
        }
      ]
    },
    {
      "cell_type": "code",
      "metadata": {
        "id": "4LLwjghU_b-n"
      },
      "source": [
        ""
      ],
      "execution_count": null,
      "outputs": []
    }
  ]
}