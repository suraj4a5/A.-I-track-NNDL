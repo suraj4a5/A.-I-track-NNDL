{
  "nbformat": 4,
  "nbformat_minor": 0,
  "metadata": {
    "colab": {
      "name": "Assignment_14.ipynb",
      "provenance": []
    },
    "kernelspec": {
      "name": "python3",
      "display_name": "Python 3"
    }
  },
  "cells": [
    {
      "cell_type": "code",
      "metadata": {
        "id": "aTowGm9tOHxn"
      },
      "source": [
        "import pandas as pd\n",
        "import numpy as np\n",
        "from math import *\n",
        "import random\n",
        "import matplotlib.pyplot as plt\n",
        "from random import shuffle\n",
        "from sklearn.preprocessing import minmax_scale\n",
        "from sklearn.model_selection import train_test_split"
      ],
      "execution_count": 153,
      "outputs": []
    },
    {
      "cell_type": "code",
      "metadata": {
        "colab": {
          "base_uri": "https://localhost:8080/",
          "height": 206
        },
        "id": "EF7D2PX-oWCj",
        "outputId": "ec7dabf9-a616-47aa-a6ab-9fc12ceea5a0"
      },
      "source": [
        "load_data = pd.read_excel(\"/content/Load Data in kW.xlsx\",header = None)\n",
        "load_data.head()"
      ],
      "execution_count": 130,
      "outputs": [
        {
          "output_type": "execute_result",
          "data": {
            "text/html": [
              "<div>\n",
              "<style scoped>\n",
              "    .dataframe tbody tr th:only-of-type {\n",
              "        vertical-align: middle;\n",
              "    }\n",
              "\n",
              "    .dataframe tbody tr th {\n",
              "        vertical-align: top;\n",
              "    }\n",
              "\n",
              "    .dataframe thead th {\n",
              "        text-align: right;\n",
              "    }\n",
              "</style>\n",
              "<table border=\"1\" class=\"dataframe\">\n",
              "  <thead>\n",
              "    <tr style=\"text-align: right;\">\n",
              "      <th></th>\n",
              "      <th>0</th>\n",
              "    </tr>\n",
              "  </thead>\n",
              "  <tbody>\n",
              "    <tr>\n",
              "      <th>0</th>\n",
              "      <td>5551.82208</td>\n",
              "    </tr>\n",
              "    <tr>\n",
              "      <th>1</th>\n",
              "      <td>4983.17184</td>\n",
              "    </tr>\n",
              "    <tr>\n",
              "      <th>2</th>\n",
              "      <td>4888.39680</td>\n",
              "    </tr>\n",
              "    <tr>\n",
              "      <th>3</th>\n",
              "      <td>5072.95872</td>\n",
              "    </tr>\n",
              "    <tr>\n",
              "      <th>4</th>\n",
              "      <td>5196.25980</td>\n",
              "    </tr>\n",
              "  </tbody>\n",
              "</table>\n",
              "</div>"
            ],
            "text/plain": [
              "            0\n",
              "0  5551.82208\n",
              "1  4983.17184\n",
              "2  4888.39680\n",
              "3  5072.95872\n",
              "4  5196.25980"
            ]
          },
          "metadata": {
            "tags": []
          },
          "execution_count": 130
        }
      ]
    },
    {
      "cell_type": "code",
      "metadata": {
        "colab": {
          "base_uri": "https://localhost:8080/",
          "height": 300
        },
        "id": "dga_n8-i-opf",
        "outputId": "dd7e5f2f-8773-488b-a987-888058c56df2"
      },
      "source": [
        "load_data.describe()"
      ],
      "execution_count": 131,
      "outputs": [
        {
          "output_type": "execute_result",
          "data": {
            "text/html": [
              "<div>\n",
              "<style scoped>\n",
              "    .dataframe tbody tr th:only-of-type {\n",
              "        vertical-align: middle;\n",
              "    }\n",
              "\n",
              "    .dataframe tbody tr th {\n",
              "        vertical-align: top;\n",
              "    }\n",
              "\n",
              "    .dataframe thead th {\n",
              "        text-align: right;\n",
              "    }\n",
              "</style>\n",
              "<table border=\"1\" class=\"dataframe\">\n",
              "  <thead>\n",
              "    <tr style=\"text-align: right;\">\n",
              "      <th></th>\n",
              "      <th>0</th>\n",
              "    </tr>\n",
              "  </thead>\n",
              "  <tbody>\n",
              "    <tr>\n",
              "      <th>count</th>\n",
              "      <td>2184.000000</td>\n",
              "    </tr>\n",
              "    <tr>\n",
              "      <th>mean</th>\n",
              "      <td>6393.230623</td>\n",
              "    </tr>\n",
              "    <tr>\n",
              "      <th>std</th>\n",
              "      <td>17139.102597</td>\n",
              "    </tr>\n",
              "    <tr>\n",
              "      <th>min</th>\n",
              "      <td>3377.919600</td>\n",
              "    </tr>\n",
              "    <tr>\n",
              "      <th>25%</th>\n",
              "      <td>5258.767680</td>\n",
              "    </tr>\n",
              "    <tr>\n",
              "      <th>50%</th>\n",
              "      <td>5935.910400</td>\n",
              "    </tr>\n",
              "    <tr>\n",
              "      <th>75%</th>\n",
              "      <td>6738.692400</td>\n",
              "    </tr>\n",
              "    <tr>\n",
              "      <th>max</th>\n",
              "      <td>805444.430400</td>\n",
              "    </tr>\n",
              "  </tbody>\n",
              "</table>\n",
              "</div>"
            ],
            "text/plain": [
              "                   0\n",
              "count    2184.000000\n",
              "mean     6393.230623\n",
              "std     17139.102597\n",
              "min      3377.919600\n",
              "25%      5258.767680\n",
              "50%      5935.910400\n",
              "75%      6738.692400\n",
              "max    805444.430400"
            ]
          },
          "metadata": {
            "tags": []
          },
          "execution_count": 131
        }
      ]
    },
    {
      "cell_type": "code",
      "metadata": {
        "colab": {
          "base_uri": "https://localhost:8080/"
        },
        "id": "3_Rawo0dooFy",
        "outputId": "29649247-2067-461f-ccb9-e352d437d2e9"
      },
      "source": [
        "load_data.info()"
      ],
      "execution_count": 132,
      "outputs": [
        {
          "output_type": "stream",
          "text": [
            "<class 'pandas.core.frame.DataFrame'>\n",
            "RangeIndex: 2184 entries, 0 to 2183\n",
            "Data columns (total 1 columns):\n",
            " #   Column  Non-Null Count  Dtype  \n",
            "---  ------  --------------  -----  \n",
            " 0   0       2184 non-null   float64\n",
            "dtypes: float64(1)\n",
            "memory usage: 17.2 KB\n"
          ],
          "name": "stdout"
        }
      ]
    },
    {
      "cell_type": "code",
      "metadata": {
        "colab": {
          "base_uri": "https://localhost:8080/",
          "height": 412
        },
        "id": "qMLmbY6UyZcH",
        "outputId": "bd7db4af-d58f-423f-ce65-d972cc611838"
      },
      "source": [
        "plt.boxplot(load_data.iloc[:,0])"
      ],
      "execution_count": 133,
      "outputs": [
        {
          "output_type": "execute_result",
          "data": {
            "text/plain": [
              "{'boxes': [<matplotlib.lines.Line2D at 0x7f4ca5cc45d0>],\n",
              " 'caps': [<matplotlib.lines.Line2D at 0x7f4ca5884a10>,\n",
              "  <matplotlib.lines.Line2D at 0x7f4ca5887950>],\n",
              " 'fliers': [<matplotlib.lines.Line2D at 0x7f4ca58a04d0>],\n",
              " 'means': [],\n",
              " 'medians': [<matplotlib.lines.Line2D at 0x7f4ca58a0c10>],\n",
              " 'whiskers': [<matplotlib.lines.Line2D at 0x7f4ca584eb50>,\n",
              "  <matplotlib.lines.Line2D at 0x7f4ca5950a10>]}"
            ]
          },
          "metadata": {
            "tags": []
          },
          "execution_count": 133
        },
        {
          "output_type": "display_data",
          "data": {
            "image/png": "[encoded data removed]",
            "text/plain": [
              "<Figure size 432x288 with 1 Axes>"
            ]
          },
          "metadata": {
            "tags": [],
            "needs_background": "light"
          }
        }
      ]
    },
    {
      "cell_type": "code",
      "metadata": {
        "colab": {
          "base_uri": "https://localhost:8080/"
        },
        "id": "T_Pbszf3xG0k",
        "outputId": "33bb4d21-1f5e-4539-cdb2-661406e05bbc"
      },
      "source": [
        "from scipy import stats\n",
        "\n",
        "z = np.abs(stats.zscore(load_data.iloc[:,0]))\n",
        "\n",
        "threshold = 3\n",
        "print(np.where(z > 3))"
      ],
      "execution_count": 134,
      "outputs": [
        {
          "output_type": "stream",
          "text": [
            "(array([929]),)\n"
          ],
          "name": "stdout"
        }
      ]
    },
    {
      "cell_type": "code",
      "metadata": {
        "id": "iLV2c9Wsx8qq"
      },
      "source": [
        "load_data.iloc[929,0] = load_data.iloc[928,0]"
      ],
      "execution_count": 135,
      "outputs": []
    },
    {
      "cell_type": "code",
      "metadata": {
        "colab": {
          "base_uri": "https://localhost:8080/",
          "height": 412
        },
        "id": "YYwSlHekyQK5",
        "outputId": "b236f095-39e0-4a0d-9b06-9201abb97054"
      },
      "source": [
        "plt.boxplot(load_data.iloc[:,0])"
      ],
      "execution_count": 136,
      "outputs": [
        {
          "output_type": "execute_result",
          "data": {
            "text/plain": [
              "{'boxes': [<matplotlib.lines.Line2D at 0x7f4ca5b78210>],\n",
              " 'caps': [<matplotlib.lines.Line2D at 0x7f4ca5aff7d0>,\n",
              "  <matplotlib.lines.Line2D at 0x7f4ca5b1e0d0>],\n",
              " 'fliers': [<matplotlib.lines.Line2D at 0x7f4ca5ba8f90>],\n",
              " 'means': [],\n",
              " 'medians': [<matplotlib.lines.Line2D at 0x7f4ca5b6bad0>],\n",
              " 'whiskers': [<matplotlib.lines.Line2D at 0x7f4ca5aff110>,\n",
              "  <matplotlib.lines.Line2D at 0x7f4ca5aff0d0>]}"
            ]
          },
          "metadata": {
            "tags": []
          },
          "execution_count": 136
        },
        {
          "output_type": "display_data",
          "data": {
            "image/png": "[encoded data removed]",
            "text/plain": [
              "<Figure size 432x288 with 1 Axes>"
            ]
          },
          "metadata": {
            "tags": [],
            "needs_background": "light"
          }
        }
      ]
    },
    {
      "cell_type": "code",
      "metadata": {
        "colab": {
          "base_uri": "https://localhost:8080/"
        },
        "id": "GhhEhUTgFI2o",
        "outputId": "198c5509-3ea1-4224-dbae-9db2c2e941f1"
      },
      "source": [
        "data = minmax_scale(load_data.iloc[:,0])\n",
        "print(data)"
      ],
      "execution_count": 137,
      "outputs": [
        {
          "output_type": "stream",
          "text": [
            "[0.39787738 0.29380046 0.27645431 ... 0.24629825 0.32438447 0.65165045]\n"
          ],
          "name": "stdout"
        }
      ]
    },
    {
      "cell_type": "code",
      "metadata": {
        "id": "7mfA-DCJp5Gr"
      },
      "source": [
        "x = []\n",
        "y = []\n",
        "for i in range(1,len(data)-24):\n",
        "  temp = [data[i],data[i+23]]\n",
        "  x.append(temp)\n",
        "  y.append(data[i+24])"
      ],
      "execution_count": 138,
      "outputs": []
    },
    {
      "cell_type": "code",
      "metadata": {
        "colab": {
          "base_uri": "https://localhost:8080/",
          "height": 283
        },
        "id": "DY69CufeDsbk",
        "outputId": "9d8df39a-dbff-40be-a267-71f854ebc904"
      },
      "source": [
        "x = np.array(x)\n",
        "y = np.array(y)\n",
        "\n",
        "plt.scatter(x[:,[1]],y)"
      ],
      "execution_count": 139,
      "outputs": [
        {
          "output_type": "execute_result",
          "data": {
            "text/plain": [
              "<matplotlib.collections.PathCollection at 0x7f4ca58b6ed0>"
            ]
          },
          "metadata": {
            "tags": []
          },
          "execution_count": 139
        },
        {
          "output_type": "display_data",
          "data": {
            "image/png": "[encoded data removed]",
            "text/plain": [
              "<Figure size 432x288 with 1 Axes>"
            ]
          },
          "metadata": {
            "tags": [],
            "needs_background": "light"
          }
        }
      ]
    },
    {
      "cell_type": "code",
      "metadata": {
        "colab": {
          "base_uri": "https://localhost:8080/",
          "height": 283
        },
        "id": "S91YRl0qEOlP",
        "outputId": "912f57c7-36ad-4372-d760-e73c5ad418e0"
      },
      "source": [
        "plt.scatter(x[:,[0]],y)"
      ],
      "execution_count": 140,
      "outputs": [
        {
          "output_type": "execute_result",
          "data": {
            "text/plain": [
              "<matplotlib.collections.PathCollection at 0x7f4ca5910950>"
            ]
          },
          "metadata": {
            "tags": []
          },
          "execution_count": 140
        },
        {
          "output_type": "display_data",
          "data": {
            "image/png": "[encoded data removed]",
            "text/plain": [
              "<Figure size 432x288 with 1 Axes>"
            ]
          },
          "metadata": {
            "tags": [],
            "needs_background": "light"
          }
        }
      ]
    },
    {
      "cell_type": "code",
      "metadata": {
        "colab": {
          "base_uri": "https://localhost:8080/"
        },
        "id": "HbrnDrosJn_P",
        "outputId": "c5fa80b3-a479-4665-ce0b-11b2b2df1757"
      },
      "source": [
        "print(x[[1][0]][0])\n",
        "print(x[[1][0]][1])\n",
        "print(y[[1]][0])\n",
        "\n",
        "print(x)\n",
        "print(y)"
      ],
      "execution_count": 127,
      "outputs": [
        {
          "output_type": "stream",
          "text": [
            "0.2764543094348234\n",
            "0.25579869333257255\n",
            "0.24450087016062294\n",
            "[[0.29380046 0.28430002]\n",
            " [0.27645431 0.25579869]\n",
            " [0.31023366 0.24450087]\n",
            " ...\n",
            " [0.68414596 0.21779692]\n",
            " [0.51467861 0.24629825]\n",
            " [0.41730621 0.32438447]]\n",
            "[0.25579869 0.24450087 0.23996462 ... 0.24629825 0.32438447 0.65165045]\n"
          ],
          "name": "stdout"
        }
      ]
    },
    {
      "cell_type": "code",
      "metadata": {
        "colab": {
          "base_uri": "https://localhost:8080/"
        },
        "id": "py7_wfRFGxck",
        "outputId": "121c06d6-44d7-4df7-d482-f586eb21d390"
      },
      "source": [
        "x_train,x_test,y_train,y_test = train_test_split(x,y,test_size=0.2)\n",
        "print(len(x_train))\n",
        "print(len(y_train))\n",
        "print(len(x_test))\n",
        "print(len(y_test))"
      ],
      "execution_count": 141,
      "outputs": [
        {
          "output_type": "stream",
          "text": [
            "1727\n",
            "1727\n",
            "432\n",
            "432\n"
          ],
          "name": "stdout"
        }
      ]
    },
    {
      "cell_type": "code",
      "metadata": {
        "id": "pR7LrNwasX_B"
      },
      "source": [
        "def gradientm0(y,x0,x1,m0,m1,c):\n",
        "    return -1*(y-m0*x0-m1*x1-c)*x0\n",
        "\n",
        "def gradientm1(y,x0,x1,m0,m1,c):\n",
        "    return -1*(y-m0*x0-m1*x1-c)*x1\n",
        "\n",
        "def gradientc(y,x0,x1,m0,m1,c):\n",
        "    return -1*(y-m0*x0-m1*x1-c)\n",
        "\n",
        "def error(x,y,m0,m1,c):\n",
        "  number_of_samples = len(x)\n",
        "  sum = 0\n",
        "  for i in range(number_of_samples):\n",
        "    sum = sum + math.pow((y[[i]][0] - m0*x[[i][0]][0] - m1*x[[i][0]][1] - c), 2)\n",
        "  error_value = 1*0.5*(1/number_of_samples)*sum\n",
        "  return error_value"
      ],
      "execution_count": 154,
      "outputs": []
    },
    {
      "cell_type": "code",
      "metadata": {
        "id": "nTVdJp1gzyUF"
      },
      "source": [
        "learning_rate = 0.01\n",
        "epochs = 50\n",
        "\n",
        "m0 = 1\n",
        "m1 = 1\n",
        "c = 1\n",
        "\n",
        "Gm0 = 0\n",
        "Gm1 = 0\n",
        "Gc = 0\n",
        "e = pow(10,-6)\n",
        "number_of_samples = len(x_train)\n",
        "error_list = []"
      ],
      "execution_count": 163,
      "outputs": []
    },
    {
      "cell_type": "code",
      "metadata": {
        "colab": {
          "base_uri": "https://localhost:8080/"
        },
        "id": "y0DvcdFWLXnV",
        "outputId": "fc43b546-ef11-4d20-c9ed-517234a561ee"
      },
      "source": [
        "for i in range(epochs):\n",
        "    for j in range(number_of_samples):\n",
        "        gradient_m0 = gradientm0(y_train[[j]][0],x_train[[j][0]][0],x_train[[i][0]][1],m0,m1,c)\n",
        "        gradient_m1 = gradientm1(y_train[[j]][0],x_train[[j][0]][0],x_train[[i][0]][1],m0,m1,c)\n",
        "        gradient_c = gradientc(y_train[[j]][0],x_train[[j][0]][0],x_train[[i][0]][1],m0,m1,c)\n",
        "\n",
        "        Gm0 = Gm0 + gradient_m0**2\n",
        "        Gm1 = Gm1 + gradient_m1**2\n",
        "        Gc = Gc + gradient_c**2\n",
        "\n",
        "        learning_rate_m0 = learning_rate/sqrt(Gm0+e)\n",
        "        learning_rate_m1 = learning_rate/sqrt(Gm1+e)\n",
        "        learning_rate_c = learning_rate/sqrt(Gc+e)\n",
        "        \n",
        "        deltam0 = -1*learning_rate_m0*gradient_m0\n",
        "        deltam1 = -1*learning_rate_m1*gradient_m1\n",
        "        deltac = -1*learning_rate_c*gradient_c\n",
        "        \n",
        "        m0 = m0 + deltam0\n",
        "        m1 = m1 + deltam1\n",
        "        c = c + deltac\n",
        "    err = error(x,y,m0,m1,c)\n",
        "    print(err)\n",
        "    error_list.append(err)"
      ],
      "execution_count": 164,
      "outputs": [
        {
          "output_type": "stream",
          "text": [
            "0.057660250592259155\n",
            "0.012508236869621988\n",
            "0.0083857026524953\n",
            "0.00974970998250924\n",
            "0.008702845265860468\n",
            "0.008718168747756199\n",
            "0.008348021488336063\n",
            "0.008392343850106536\n",
            "0.008282267666086517\n",
            "0.00826920079817202\n",
            "0.009164264986721498\n",
            "0.008407124787024366\n",
            "0.008311049672348046\n",
            "0.008258489161685104\n",
            "0.008561877524013706\n",
            "0.00833440890278973\n",
            "0.008307122509779554\n",
            "0.008389476735555181\n",
            "0.008980739645385812\n",
            "0.008966714022870007\n",
            "0.00849272691185148\n",
            "0.008411083004366928\n",
            "0.008454123097239972\n",
            "0.008371923444267158\n",
            "0.008354939216184326\n",
            "0.008350746638163521\n",
            "0.008378632296409368\n",
            "0.008473334456582587\n",
            "0.00849018912044544\n",
            "0.008425602931807752\n",
            "0.00837803262582021\n",
            "0.008353277562379356\n",
            "0.00838366027615933\n",
            "0.008425748036916036\n",
            "0.008423677114108895\n",
            "0.008410737868625794\n",
            "0.00844746123759279\n",
            "0.008420749363645254\n",
            "0.008449081686370475\n",
            "0.008419330346247826\n",
            "0.008413311355809208\n",
            "0.008483911392967993\n",
            "0.008456306962014723\n",
            "0.008554371117085988\n",
            "0.008490422917054577\n",
            "0.008475267656809175\n",
            "0.008464499202955332\n",
            "0.008478603970684105\n",
            "0.008490443377669825\n",
            "0.008502157525715032\n"
          ],
          "name": "stdout"
        }
      ]
    },
    {
      "cell_type": "code",
      "metadata": {
        "colab": {
          "base_uri": "https://localhost:8080/",
          "height": 313
        },
        "id": "w4DnoFUqQNSs",
        "outputId": "8d3b802a-676b-417e-babf-3f8cad195e70"
      },
      "source": [
        "x1 = range(epochs)\n",
        "y1 = error_list\n",
        "\n",
        "plt.plot(x1,y1)\n",
        "plt.xlabel(\"number of iterations\")\n",
        "plt.ylabel(\"error\")\n",
        "plt.title(\"error graph in case of SGD with AdaGrad\")"
      ],
      "execution_count": 165,
      "outputs": [
        {
          "output_type": "execute_result",
          "data": {
            "text/plain": [
              "Text(0.5, 1.0, 'error graph in case of SGD with AdaGrad')"
            ]
          },
          "metadata": {
            "tags": []
          },
          "execution_count": 165
        },
        {
          "output_type": "display_data",
          "data": {
            "image/png": "[encoded data removed]",
            "text/plain": [
              "<Figure size 432x288 with 1 Axes>"
            ]
          },
          "metadata": {
            "tags": [],
            "needs_background": "light"
          }
        }
      ]
    },
    {
      "cell_type": "code",
      "metadata": {
        "colab": {
          "base_uri": "https://localhost:8080/"
        },
        "id": "i5f3T-lz0c7I",
        "outputId": "d35fe274-6f0c-41ff-f6a6-505e712ded02"
      },
      "source": [
        "print(m0,m1,c)"
      ],
      "execution_count": 166,
      "outputs": [
        {
          "output_type": "stream",
          "text": [
            "0.6071261566111777 0.030934676604183232 0.17468884359953782\n"
          ],
          "name": "stdout"
        }
      ]
    },
    {
      "cell_type": "code",
      "metadata": {
        "colab": {
          "base_uri": "https://localhost:8080/"
        },
        "id": "M-dJmGYORVyF",
        "outputId": "81ba8a9a-d7c8-4ca5-d0bb-44fa834b8027"
      },
      "source": [
        "train_error = error(x_train,y_train,m0,m1,c)\n",
        "test_error = error(x_test,y_test,m0,m1,c)\n",
        "\n",
        "print(\"train error : \",train_error)\n",
        "print(\"test error : \",test_error)"
      ],
      "execution_count": 171,
      "outputs": [
        {
          "output_type": "stream",
          "text": [
            "train error :  0.008880806551387807\n",
            "test error :  0.006988437925398206\n"
          ],
          "name": "stdout"
        }
      ]
    },
    {
      "cell_type": "code",
      "metadata": {
        "colab": {
          "base_uri": "https://localhost:8080/"
        },
        "id": "HcXoWOi_9rar",
        "outputId": "6246bdca-be22-4eb4-c2d8-204830d7e4d8"
      },
      "source": [
        "input_load0 = float(input(\"enter yesterday load at this time : \"))\n",
        "input_load1 = float(input(\"enter load at previous hour : \"))\n",
        "\n",
        "max_value = 8841.669480\n",
        "min_value = 3377.919600\n",
        "\n",
        "input_load0 = (input_load0 - min_value)/(max_value-min_value)\n",
        "input_load1 = (input_load1 - min_value)/(max_value-min_value)\n",
        "output_load = input_load0*m0 + input_load1*m0 + c\n",
        "\n",
        "output_load = output_load*(max_value-min_value)+min_value\n",
        "\n",
        "print(\"predicted load for this hour is : \",output_load)"
      ],
      "execution_count": 169,
      "outputs": [
        {
          "output_type": "stream",
          "text": [
            "enter yesterday load at this time : 3000\n",
            "enter load at previous hour : 2000\n",
            "predicted load for this hour is :  3266.3598431310684\n"
          ],
          "name": "stdout"
        }
      ]
    }
  ]
}